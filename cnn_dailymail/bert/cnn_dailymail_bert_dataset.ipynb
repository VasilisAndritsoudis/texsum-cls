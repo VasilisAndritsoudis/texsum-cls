{
 "cells": [
  {
   "cell_type": "code",
   "execution_count": 1,
   "id": "initial_id",
   "metadata": {
    "ExecuteTime": {
     "end_time": "2024-01-13T09:07:17.621121Z",
     "start_time": "2024-01-13T09:07:17.279471800Z"
    },
    "collapsed": true
   },
   "outputs": [],
   "source": [
    "import pandas as pd\n",
    "import os\n",
    "import random\n",
    "from tqdm.auto import tqdm\n",
    "\n",
    "import warnings\n",
    "warnings.filterwarnings('ignore')"
   ]
  },
  {
   "cell_type": "code",
   "execution_count": 2,
   "id": "5cf67ca42ed5cb32",
   "metadata": {
    "ExecuteTime": {
     "end_time": "2024-01-13T09:07:17.636120600Z",
     "start_time": "2024-01-13T09:07:17.622123600Z"
    },
    "collapsed": false
   },
   "outputs": [],
   "source": [
    "num_neg_ex = 1\n",
    "\n",
    "pos_label = \"1\"\n",
    "neg_label = \"0\"\n",
    "\n",
    "cnn_dailymail_path = \"../data\"\n",
    "data_path = \"processed_data\""
   ]
  },
  {
   "cell_type": "code",
   "execution_count": 3,
   "id": "5b1833f59b82abeb",
   "metadata": {
    "ExecuteTime": {
     "end_time": "2024-01-13T09:07:17.654120900Z",
     "start_time": "2024-01-13T09:07:17.639122700Z"
    },
    "collapsed": false
   },
   "outputs": [],
   "source": [
    "def preprocess_df(df):\n",
    "    data = []\n",
    "    \n",
    "    for i in tqdm(range(len(df.index))):\n",
    "        article = df['article'][i].lower()\n",
    "        highlight = df['highlights'][i].lower()\n",
    "        for j in range(num_neg_ex):\n",
    "            # Write positive example\n",
    "            data.append([\"[CLS] \" + article + \" [SEP] \" + highlight + \" [SEP]\", pos_label])\n",
    "            \n",
    "            # Write negative examples\n",
    "            neg_ex_index = random.choice([k for k in range(len(df.index)) if k not in [i]])\n",
    "            data.append([\"[CLS] \" + article + \" [SEP] \" + df['highlights'][neg_ex_index].lower() + \" [SEP]\", neg_label])\n",
    "    \n",
    "    data_df = pd.DataFrame(data, columns=['input', 'label'])\n",
    "    return data_df"
   ]
  },
  {
   "cell_type": "code",
   "execution_count": 4,
   "id": "31120a506d7aa645",
   "metadata": {
    "ExecuteTime": {
     "end_time": "2024-01-13T10:19:16.186415400Z",
     "start_time": "2024-01-13T09:07:17.654120900Z"
    },
    "collapsed": false
   },
   "outputs": [
    {
     "data": {
      "application/vnd.jupyter.widget-view+json": {
       "model_id": "b66be5445f0f4de8a227b99059c7dee2",
       "version_major": 2,
       "version_minor": 0
      },
      "text/plain": [
       "  0%|          | 0/287113 [00:00<?, ?it/s]"
      ]
     },
     "metadata": {},
     "output_type": "display_data"
    }
   ],
   "source": [
    "train_df = pd.read_csv(f\"{cnn_dailymail_path}/train.csv\")\n",
    "train_df = preprocess_df(train_df)\n",
    "os.makedirs(os.path.dirname(f\"{data_path}/train.csv\"), exist_ok=True)\n",
    "train_df.to_csv(f\"{data_path}/train.csv\", index=False)"
   ]
  },
  {
   "cell_type": "code",
   "execution_count": 5,
   "id": "5144a4439ad81149",
   "metadata": {
    "ExecuteTime": {
     "end_time": "2024-01-13T10:19:23.947867800Z",
     "start_time": "2024-01-13T10:19:16.187415200Z"
    },
    "collapsed": false
   },
   "outputs": [
    {
     "data": {
      "application/vnd.jupyter.widget-view+json": {
       "model_id": "40452eee74364837af903a883239db9a",
       "version_major": 2,
       "version_minor": 0
      },
      "text/plain": [
       "  0%|          | 0/11490 [00:00<?, ?it/s]"
      ]
     },
     "metadata": {},
     "output_type": "display_data"
    }
   ],
   "source": [
    "val_df = pd.read_csv(f\"{cnn_dailymail_path}/test.csv\")\n",
    "val_df = preprocess_df(val_df)\n",
    "val_df.to_csv(f\"{data_path}/validation.csv\", index=False)"
   ]
  },
  {
   "cell_type": "code",
   "execution_count": 6,
   "id": "c3041859cbee1e5",
   "metadata": {
    "ExecuteTime": {
     "end_time": "2024-01-13T10:19:31.660791800Z",
     "start_time": "2024-01-13T10:19:23.948868500Z"
    },
    "collapsed": false
   },
   "outputs": [
    {
     "data": {
      "application/vnd.jupyter.widget-view+json": {
       "model_id": "b829a3931e964bbc9bb71d88dea2816b",
       "version_major": 2,
       "version_minor": 0
      },
      "text/plain": [
       "  0%|          | 0/11490 [00:00<?, ?it/s]"
      ]
     },
     "metadata": {},
     "output_type": "display_data"
    }
   ],
   "source": [
    "test_df = pd.read_csv(f\"{cnn_dailymail_path}/test.csv\")\n",
    "test_df = preprocess_df(test_df)\n",
    "test_df.to_csv(f\"{data_path}/test.csv\", index=False)"
   ]
  }
 ],
 "metadata": {
  "kernelspec": {
   "display_name": "Python 3",
   "language": "python",
   "name": "python3"
  },
  "language_info": {
   "codemirror_mode": {
    "name": "ipython",
    "version": 2
   },
   "file_extension": ".py",
   "mimetype": "text/x-python",
   "name": "python",
   "nbconvert_exporter": "python",
   "pygments_lexer": "ipython2",
   "version": "2.7.6"
  }
 },
 "nbformat": 4,
 "nbformat_minor": 5
}
