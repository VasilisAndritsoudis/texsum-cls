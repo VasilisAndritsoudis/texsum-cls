{
 "cells": [
  {
   "cell_type": "code",
   "execution_count": null,
   "id": "initial_id",
   "metadata": {
    "collapsed": true
   },
   "outputs": [],
   "source": [
    "import pandas as pd\n",
    "import os\n",
    "import random\n",
    "from tqdm.auto import tqdm\n",
    "\n",
    "import warnings\n",
    "warnings.filterwarnings('ignore')"
   ]
  },
  {
   "cell_type": "code",
   "execution_count": null,
   "id": "5cf67ca42ed5cb32",
   "metadata": {
    "collapsed": false
   },
   "outputs": [],
   "source": [
    "num_neg_ex = 1\n",
    "\n",
    "pos_label = \"1\"\n",
    "neg_label = \"0\"\n",
    "\n",
    "cnn_dailymail_path = \"../data\"\n",
    "data_path = \"processed_data\""
   ]
  },
  {
   "cell_type": "code",
   "execution_count": null,
   "id": "5b1833f59b82abeb",
   "metadata": {
    "collapsed": false
   },
   "outputs": [],
   "source": [
    "def preprocess_df(df):\n",
    "    data = []\n",
    "    \n",
    "    for i in tqdm(range(len(df.index))):\n",
    "        article = df['article'][i].lower().replace('\\n', ' ')\n",
    "        highlight = df['highlights'][i].lower().replace('\\n', ' ')\n",
    "        for j in range(num_neg_ex):\n",
    "            # Write positive example\n",
    "            data.append([article, highlight, pos_label])\n",
    "            \n",
    "            # Write negative examples\n",
    "            neg_ex_index = random.choice([k for k in range(len(df.index)) if k not in [i]])\n",
    "            data.append([article, df['highlights'][neg_ex_index].lower(), neg_label])\n",
    "    \n",
    "    data_df = pd.DataFrame(data, columns=['article', 'highlight', 'label'])\n",
    "    return data_df"
   ]
  },
  {
   "cell_type": "code",
   "execution_count": null,
   "id": "31120a506d7aa645",
   "metadata": {
    "collapsed": false
   },
   "outputs": [],
   "source": [
    "train_df = pd.read_csv(f\"{cnn_dailymail_path}/train.csv\")\n",
    "train_df = preprocess_df(train_df)\n",
    "os.makedirs(os.path.dirname(f\"{data_path}/train.csv\"), exist_ok=True)\n",
    "train_df.to_csv(f\"{data_path}/train.csv\", index=False)"
   ]
  },
  {
   "cell_type": "code",
   "execution_count": null,
   "id": "5144a4439ad81149",
   "metadata": {
    "collapsed": false
   },
   "outputs": [],
   "source": [
    "val_df = pd.read_csv(f\"{cnn_dailymail_path}/test.csv\")\n",
    "val_df = preprocess_df(val_df)\n",
    "val_df.to_csv(f\"{data_path}/validation.csv\", index=False)"
   ]
  },
  {
   "cell_type": "code",
   "execution_count": null,
   "id": "c3041859cbee1e5",
   "metadata": {
    "collapsed": false
   },
   "outputs": [],
   "source": [
    "test_df = pd.read_csv(f\"{cnn_dailymail_path}/test.csv\")\n",
    "test_df = preprocess_df(test_df)\n",
    "test_df.to_csv(f\"{data_path}/test.csv\", index=False)"
   ]
  }
 ],
 "metadata": {
  "kernelspec": {
   "display_name": "Python 3",
   "language": "python",
   "name": "python3"
  },
  "language_info": {
   "codemirror_mode": {
    "name": "ipython",
    "version": 2
   },
   "file_extension": ".py",
   "mimetype": "text/x-python",
   "name": "python",
   "nbconvert_exporter": "python",
   "pygments_lexer": "ipython2",
   "version": "2.7.6"
  }
 },
 "nbformat": 4,
 "nbformat_minor": 5
}
