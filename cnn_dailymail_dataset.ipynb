{
 "cells": [
  {
   "cell_type": "code",
   "execution_count": 1,
   "id": "initial_id",
   "metadata": {
    "collapsed": true,
    "ExecuteTime": {
     "end_time": "2024-01-12T09:55:03.655678500Z",
     "start_time": "2024-01-12T09:55:02.874680Z"
    }
   },
   "outputs": [],
   "source": [
    "import pandas as pd\n",
    "import os\n",
    "import random\n",
    "from tqdm.auto import tqdm\n",
    "\n",
    "import warnings\n",
    "warnings.filterwarnings('ignore')"
   ]
  },
  {
   "cell_type": "code",
   "outputs": [],
   "source": [
    "num_neg_ex = 1\n",
    "\n",
    "pos_label = \"1\"\n",
    "neg_label = \"0\"\n",
    "\n",
    "cnn_dailymail_path = \"cnn_dailymail\"\n",
    "data_path = \"data/cnn_dailymail\""
   ],
   "metadata": {
    "collapsed": false,
    "ExecuteTime": {
     "end_time": "2024-01-12T09:55:03.671679300Z",
     "start_time": "2024-01-12T09:55:03.656677800Z"
    }
   },
   "id": "5cf67ca42ed5cb32",
   "execution_count": 2
  },
  {
   "cell_type": "code",
   "outputs": [],
   "source": [
    "def preprocess_df(df):\n",
    "    data = []\n",
    "    \n",
    "    for i in tqdm(range(len(df.index))):\n",
    "        article = df['article'][i].lower()\n",
    "        highlight = df['highlights'][i].lower()\n",
    "        for j in range(num_neg_ex):\n",
    "            # Write positive example\n",
    "            data.append([\"[CLS] \" + article + \" [SEP] \" + highlight + \" [SEP]\", pos_label])\n",
    "            \n",
    "            # Write negative examples\n",
    "            neg_ex_index = random.choice([k for k in range(len(df.index)) if k not in [i]])\n",
    "            data.append([\"[CLS] \" + article + \" [SEP] \" + df['highlights'][neg_ex_index].lower() + \" [SEP]\", neg_label])\n",
    "    \n",
    "    data_df = pd.DataFrame(data, columns=['input', 'label'])\n",
    "    return data_df"
   ],
   "metadata": {
    "collapsed": false,
    "ExecuteTime": {
     "end_time": "2024-01-12T09:55:03.687678900Z",
     "start_time": "2024-01-12T09:55:03.673678Z"
    }
   },
   "id": "5b1833f59b82abeb",
   "execution_count": 3
  },
  {
   "cell_type": "code",
   "outputs": [
    {
     "data": {
      "text/plain": "  0%|          | 0/300481 [00:00<?, ?it/s]",
      "application/vnd.jupyter.widget-view+json": {
       "version_major": 2,
       "version_minor": 0,
       "model_id": "ea61e486b77a49d2afc63fa6be8838ad"
      }
     },
     "metadata": {},
     "output_type": "display_data"
    }
   ],
   "source": [
    "train_df = pd.read_csv(f\"{cnn_dailymail_path}/train.csv\")\n",
    "val_df = pd.read_csv(f\"{cnn_dailymail_path}/validation.csv\")\n",
    "\n",
    "train_df = preprocess_df(pd.concat([train_df, val_df], ignore_index=True))\n",
    "\n",
    "os.makedirs(os.path.dirname(f\"{data_path}/train.csv\"), exist_ok=True)\n",
    "train_df.to_csv(f\"{data_path}/train.csv\", index=False)"
   ],
   "metadata": {
    "collapsed": false,
    "is_executing": true,
    "ExecuteTime": {
     "start_time": "2024-01-12T09:55:03.688678800Z"
    }
   },
   "id": "31120a506d7aa645",
   "execution_count": null
  },
  {
   "cell_type": "code",
   "outputs": [],
   "source": [
    "test_df = pd.read_csv(f\"{cnn_dailymail_path}/test.csv\")\n",
    "test_df = preprocess_df(test_df)\n",
    "test_df.to_csv(f\"{data_path}/test.csv\", index=False)"
   ],
   "metadata": {
    "collapsed": false,
    "is_executing": true
   },
   "id": "c3041859cbee1e5",
   "execution_count": null
  }
 ],
 "metadata": {
  "kernelspec": {
   "display_name": "Python 3",
   "language": "python",
   "name": "python3"
  },
  "language_info": {
   "codemirror_mode": {
    "name": "ipython",
    "version": 2
   },
   "file_extension": ".py",
   "mimetype": "text/x-python",
   "name": "python",
   "nbconvert_exporter": "python",
   "pygments_lexer": "ipython2",
   "version": "2.7.6"
  }
 },
 "nbformat": 4,
 "nbformat_minor": 5
}
