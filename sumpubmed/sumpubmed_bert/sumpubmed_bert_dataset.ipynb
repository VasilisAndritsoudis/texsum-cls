{
 "cells": [
  {
   "cell_type": "markdown",
   "source": [
    "# SumPubMed Dataset Creation\n",
    "The produced Dataset will have the following structure:\n",
    "* Each document (text+abstract) entry is saved in a different file (e.g. data_{i}.txt)\n",
    "* Each document has the following structure: [CLS] text [SEP] abstract [SEP]\n",
    "* The labels of the documents are saved in a single file (e.g. labels.txt), where each line corresponds to the document with id equal to the line number."
   ],
   "metadata": {
    "collapsed": false,
    "id": "4797e7e7a501cd12"
   },
   "id": "4797e7e7a501cd12"
  },
  {
   "cell_type": "markdown",
   "source": [
    "### Used only for Google Colab\n",
    "Run before everything"
   ],
   "metadata": {
    "id": "WbIZpSOd2Alc"
   },
   "id": "WbIZpSOd2Alc"
  },
  {
   "cell_type": "code",
   "source": [
    "# from google.colab import drive\n",
    "# drive.mount('/content/drive')\n",
    "# \n",
    "# import zipfile\n",
    "# zip = zipfile.ZipFile('/content/drive/MyDrive/Colab Datasets/SumPubMed/sumpubmed.zip')\n",
    "# zip.extractall('/tmp')\n",
    "# zip.close()"
   ],
   "metadata": {
    "colab": {
     "base_uri": "https://localhost:8080/"
    },
    "id": "-Rj3bfZtukB1",
    "executionInfo": {
     "status": "ok",
     "timestamp": 1704202748005,
     "user_tz": -120,
     "elapsed": 33511,
     "user": {
      "displayName": "Vasilis Andritsoudis",
      "userId": "01327387119465771821"
     }
    },
    "outputId": "eeb5e816-b7a7-47de-e9e8-bb632dccfc2e",
    "ExecuteTime": {
     "end_time": "2024-01-07T16:43:13.362122900Z",
     "start_time": "2024-01-07T16:43:13.325122300Z"
    }
   },
   "id": "-Rj3bfZtukB1",
   "execution_count": 7,
   "outputs": []
  },
  {
   "cell_type": "markdown",
   "source": [
    "### Used only for Google Colab\n",
    "Run after everything"
   ],
   "metadata": {
    "id": "1Glz8Dmj2JsE"
   },
   "id": "1Glz8Dmj2JsE"
  },
  {
   "cell_type": "code",
   "source": [
    "# %cd /tmp\n",
    "# !zip -r data.zip data\n",
    "# !cp /tmp/data.zip '/content/drive/MyDrive/Colab Datasets/SumPubMed/'\n",
    "# %cd /content"
   ],
   "metadata": {
    "id": "Ef_mzBao0Q2J",
    "colab": {
     "base_uri": "https://localhost:8080/"
    },
    "executionInfo": {
     "status": "ok",
     "timestamp": 1704204367696,
     "user_tz": -120,
     "elapsed": 155283,
     "user": {
      "displayName": "Vasilis Andritsoudis",
      "userId": "01327387119465771821"
     }
    },
    "outputId": "2e8022e3-a780-4f51-ed99-18c7e23b3014",
    "ExecuteTime": {
     "end_time": "2024-01-07T16:43:13.380122600Z",
     "start_time": "2024-01-07T16:43:13.366121900Z"
    }
   },
   "id": "Ef_mzBao0Q2J",
   "execution_count": 8,
   "outputs": []
  },
  {
   "cell_type": "code",
   "execution_count": 9,
   "outputs": [],
   "source": [
    "import os\n",
    "import random\n",
    "from tqdm.auto import tqdm\n",
    "\n",
    "import warnings\n",
    "warnings.filterwarnings('ignore')"
   ],
   "metadata": {
    "id": "4f7163347e710d3f",
    "executionInfo": {
     "status": "ok",
     "timestamp": 1704202765748,
     "user_tz": -120,
     "elapsed": 287,
     "user": {
      "displayName": "Vasilis Andritsoudis",
      "userId": "01327387119465771821"
     }
    },
    "ExecuteTime": {
     "end_time": "2024-01-07T16:43:13.429121300Z",
     "start_time": "2024-01-07T16:43:13.377121700Z"
    }
   },
   "id": "4f7163347e710d3f"
  },
  {
   "cell_type": "markdown",
   "source": [
    "## Dataset parameters"
   ],
   "metadata": {
    "collapsed": false,
    "id": "236fd544a82ebbea"
   },
   "id": "236fd544a82ebbea"
  },
  {
   "cell_type": "code",
   "execution_count": 10,
   "outputs": [],
   "source": [
    "num_docs = 32689\n",
    "num_neg_ex = 2\n",
    "\n",
    "pos_label = \"1\"\n",
    "neg_label = \"0\"\n",
    "\n",
    "doc_len = 512\n",
    "abst_len = 64\n",
    "\n",
    "test_docs_per = 0.1\n",
    "\n",
    "sumpubmed_path = '../sumpubmed'\n",
    "data_path = 'processed_data'"
   ],
   "metadata": {
    "id": "8ceacbd21c06e074",
    "executionInfo": {
     "status": "ok",
     "timestamp": 1704202766326,
     "user_tz": -120,
     "elapsed": 14,
     "user": {
      "displayName": "Vasilis Andritsoudis",
      "userId": "01327387119465771821"
     }
    },
    "ExecuteTime": {
     "end_time": "2024-01-07T16:43:13.430122Z",
     "start_time": "2024-01-07T16:43:13.393122500Z"
    }
   },
   "id": "8ceacbd21c06e074"
  },
  {
   "cell_type": "markdown",
   "source": [
    "## Utility functions"
   ],
   "metadata": {
    "collapsed": false,
    "id": "4ecccbd45ca751b3"
   },
   "id": "4ecccbd45ca751b3"
  },
  {
   "cell_type": "code",
   "execution_count": 11,
   "outputs": [],
   "source": [
    "def read_file(path, seq_length):\n",
    "    with open(path, encoding=\"utf8\") as f:\n",
    "        data = f.read()\n",
    "        f.close()\n",
    "        words = data.split(\" \")\n",
    "        text = ' '.join((words[:seq_length])) if len(words) > seq_length else ' '.join(words)\n",
    "    return text\n",
    "\n",
    "def write_file(path, data):\n",
    "    os.makedirs(os.path.dirname(path), exist_ok=True)\n",
    "    with open(path, \"w\", encoding=\"utf8\") as f:\n",
    "        f.write(data)\n",
    "        f.close()"
   ],
   "metadata": {
    "id": "c2b86344c46bf9a4",
    "executionInfo": {
     "status": "ok",
     "timestamp": 1704202766327,
     "user_tz": -120,
     "elapsed": 13,
     "user": {
      "displayName": "Vasilis Andritsoudis",
      "userId": "01327387119465771821"
     }
    },
    "ExecuteTime": {
     "end_time": "2024-01-07T16:43:13.430122Z",
     "start_time": "2024-01-07T16:43:13.410122800Z"
    }
   },
   "id": "c2b86344c46bf9a4"
  },
  {
   "cell_type": "markdown",
   "source": [
    "## Dataset construction containing raw data\n",
    "The SuPubMed Data is split into train and test sets.\n",
    "\n",
    "Each Dataset is constructed as follows:\n",
    "1. Each document is written to a separate file.\n",
    "2. The text and abstract are truncated in order to match the desired lengths.\n",
    "3. Each document is constructed by concatenating the text and abstract of a paper using special separators ([CLS], [SEP]).\n",
    "4. Negative examples are produced by picking random abstracts of other documents and creating a new negative entry as described above.\n",
    "5. Each positive example is copied as many times as needed in order to balance the positive and negative examples.\n",
    "6. The labels are written into a single document, where each line corresponds to the document with id equal to the line number."
   ],
   "metadata": {
    "collapsed": false,
    "id": "9cb110f786d6efcf"
   },
   "id": "9cb110f786d6efcf"
  },
  {
   "cell_type": "markdown",
   "source": [
    "### Train Dataset"
   ],
   "metadata": {
    "collapsed": false,
    "id": "c9fb4c30acbc6eda"
   },
   "id": "c9fb4c30acbc6eda"
  },
  {
   "cell_type": "code",
   "execution_count": 12,
   "outputs": [
    {
     "data": {
      "text/plain": "  0%|          | 0/29420 [00:00<?, ?it/s]",
      "application/vnd.jupyter.widget-view+json": {
       "version_major": 2,
       "version_minor": 0,
       "model_id": "be0aca1c92294727829aa03fada2f151"
      }
     },
     "metadata": {},
     "output_type": "display_data"
    }
   ],
   "source": [
    "doc_count = 1\n",
    "doc_labels = []\n",
    "test_start = int(num_docs * (1 - test_docs_per)) + 1\n",
    "for i in tqdm(range(1, test_start)):\n",
    "    text = read_file(f\"{sumpubmed_path}/line_text/text_{i}.txt\", doc_len)\n",
    "    abst = read_file(f\"{sumpubmed_path}/shorter_abstract/abst_{i}.txt\", abst_len)\n",
    "    doc_data = \"[CLS] \" + text + \" [SEP] \" + abst + \" [SEP]\"\n",
    "    for j in range(num_neg_ex):\n",
    "        # Write positive example\n",
    "        write_file(f\"{data_path}/raw/train/data_{doc_count}.txt\", doc_data)\n",
    "        doc_labels.append(pos_label)\n",
    "        doc_count += 1\n",
    "\n",
    "        # Write negative example\n",
    "        neg_ex_index = random.choice([k for k in range(1,num_docs+1) if k not in [i]])\n",
    "        neg_ex_abst = read_file(f\"{sumpubmed_path}/shorter_abstract/abst_{neg_ex_index}.txt\", abst_len)\n",
    "        neg_ex_data = \"[CLS] \" + text + \" [SEP] \" + neg_ex_abst + \" [SEP]\"\n",
    "        write_file(f\"{data_path}/raw/train/data_{doc_count}.txt\", neg_ex_data)\n",
    "        doc_labels.append(neg_label)\n",
    "        doc_count += 1\n",
    "\n",
    "write_file(f\"{data_path}/raw/train/labels.txt\", \"\\n\".join(doc_labels))"
   ],
   "metadata": {
    "colab": {
     "base_uri": "https://localhost:8080/",
     "height": 49,
     "referenced_widgets": [
      "71573df727a440eb9b284fce1a9a6365",
      "0a66a14a3ed449ff955b1e7b8bd8d17b",
      "f0cf12e04d8b43b291e94ed9998fee5a",
      "48e7bb4cf65240b39c317e44b3088779",
      "fcfda5f5752a4f7cb7b58334d68a0235",
      "6e6ba1d0590a4b8897d85ef9b26272e0",
      "2d41f597ccf3485f880a43d22b76712f",
      "b694e9749b1947f080460a9c4f150db8",
      "4a158932ef0f426c968ace03d2bbc7f2",
      "ec864d7a678e4edd9220d7d9252de6e6",
      "a1c3aa1cc5d6420f9e11b768125590b5"
     ]
    },
    "id": "e144cc30d1931a6b",
    "executionInfo": {
     "status": "ok",
     "timestamp": 1704203094146,
     "user_tz": -120,
     "elapsed": 327831,
     "user": {
      "displayName": "Vasilis Andritsoudis",
      "userId": "01327387119465771821"
     }
    },
    "outputId": "ee5599c2-9a1c-4fb1-86b8-71eccccfa38a",
    "ExecuteTime": {
     "end_time": "2024-01-07T16:46:13.687718300Z",
     "start_time": "2024-01-07T16:43:13.427122800Z"
    }
   },
   "id": "e144cc30d1931a6b"
  },
  {
   "cell_type": "markdown",
   "source": [
    "### Test Dataset"
   ],
   "metadata": {
    "collapsed": false,
    "id": "152273d653a4545c"
   },
   "id": "152273d653a4545c"
  },
  {
   "cell_type": "code",
   "execution_count": 13,
   "outputs": [
    {
     "data": {
      "text/plain": "  0%|          | 0/3269 [00:00<?, ?it/s]",
      "application/vnd.jupyter.widget-view+json": {
       "version_major": 2,
       "version_minor": 0,
       "model_id": "e1539751ed65485d833380e1fdf77e2e"
      }
     },
     "metadata": {},
     "output_type": "display_data"
    }
   ],
   "source": [
    "doc_count = 1\n",
    "doc_labels = []\n",
    "for i in tqdm(range(test_start, num_docs+1)):\n",
    "    text = read_file(f\"{sumpubmed_path}/line_text/text_{i}.txt\", doc_len)\n",
    "    abst = read_file(f\"{sumpubmed_path}/shorter_abstract/abst_{i}.txt\", abst_len)\n",
    "    doc_data = \"[CLS] \" + text + \" [SEP] \" + abst + \" [SEP]\"\n",
    "    for j in range(num_neg_ex):\n",
    "        # Write positive example\n",
    "        write_file(f\"{data_path}/raw/test/data_{doc_count}.txt\", doc_data)\n",
    "        doc_labels.append(pos_label)\n",
    "        doc_count += 1\n",
    "\n",
    "        # Write negative example\n",
    "        neg_ex_index = random.choice([k for k in range(1,num_docs+1) if k not in [i]])\n",
    "        neg_ex_abst = read_file(f\"{sumpubmed_path}/shorter_abstract/abst_{neg_ex_index}.txt\", abst_len)\n",
    "        neg_ex_data = \"[CLS] \" + text + \" [SEP] \" + neg_ex_abst + \" [SEP]\"\n",
    "        write_file(f\"{data_path}/raw/test/data_{doc_count}.txt\", neg_ex_data)\n",
    "        doc_labels.append(neg_label)\n",
    "        doc_count += 1\n",
    "\n",
    "write_file(f\"{data_path}/raw/test/labels.txt\", \"\\n\".join(doc_labels))"
   ],
   "metadata": {
    "colab": {
     "referenced_widgets": [
      "3c4e83f17f5b44deba4c3cecedd61eb0",
      "4aa449801516457f90b80c0bc8aac55f",
      "3b2b34275ed4481cb9a707fe05371579",
      "6ab7863c29ca4e829d45170c4b929887",
      "6044bbb5542c4beaa3a00d728871c87b",
      "28c0b715e56b4dfaad9ef6a689000904",
      "12afcc0d2e674e5899e4b46b7feb14cf",
      "422ad7cda26f4cf2a6172f075112de31",
      "0db7bb81323c4ff9a7da36fd5f734cfb",
      "4805ef4174144e6e89a690b8fa58df01",
      "685b075c94804fefa43ff54903b42f97"
     ],
     "base_uri": "https://localhost:8080/",
     "height": 49
    },
    "id": "8223bfe5ff59566a",
    "outputId": "8a6d042a-db66-4537-d4b5-3a0becde0dd2",
    "executionInfo": {
     "status": "ok",
     "timestamp": 1704203129887,
     "user_tz": -120,
     "elapsed": 35764,
     "user": {
      "displayName": "Vasilis Andritsoudis",
      "userId": "01327387119465771821"
     }
    },
    "ExecuteTime": {
     "end_time": "2024-01-07T16:46:32.459843300Z",
     "start_time": "2024-01-07T16:46:13.691718900Z"
    }
   },
   "id": "8223bfe5ff59566a"
  },
  {
   "cell_type": "markdown",
   "source": [
    "## Preprocessed Dataset construction\n",
    "Remove the Background section from each paper and only keep the Results and Conclusion section. Usually the Background section provides little insight to what the actual contribution of a peper is. Since the text length is limited, we have decided to remove this section.\n",
    "\n",
    "In order to ensure that as much information as possible is contained in each data input, we have decided to strip the stop words from the texts.\n",
    "\n",
    "The rest of the Dataset construction process is similar to the above."
   ],
   "metadata": {
    "collapsed": false,
    "id": "a1c4bce1dc5655ce"
   },
   "id": "a1c4bce1dc5655ce"
  },
  {
   "cell_type": "code",
   "outputs": [],
   "source": [
    "def read_file(path, seq_length, sep):\n",
    "    with open(path, encoding=\"utf8\") as f:\n",
    "        data = f.read()\n",
    "        f.close()\n",
    "        doc = data[data.find(sep):].replace('RESULTS', '').replace('CONCLUSIONS', '')\n",
    "        words = doc.split(\" \")\n",
    "        text = ' '.join((words[:seq_length])) if len(words) > seq_length else ' '.join(words)\n",
    "    return text\n",
    "\n",
    "sep = \"RESULTS\""
   ],
   "metadata": {
    "id": "375eb04b7b1920db",
    "executionInfo": {
     "status": "ok",
     "timestamp": 1704203129888,
     "user_tz": -120,
     "elapsed": 41,
     "user": {
      "displayName": "Vasilis Andritsoudis",
      "userId": "01327387119465771821"
     }
    },
    "ExecuteTime": {
     "end_time": "2024-01-07T16:46:32.477846800Z",
     "start_time": "2024-01-07T16:46:32.462844800Z"
    }
   },
   "id": "375eb04b7b1920db",
   "execution_count": 14
  },
  {
   "cell_type": "markdown",
   "source": [
    "### Train Dataset"
   ],
   "metadata": {
    "collapsed": false,
    "id": "598fd679bcf3de95"
   },
   "id": "598fd679bcf3de95"
  },
  {
   "cell_type": "code",
   "execution_count": 15,
   "outputs": [
    {
     "data": {
      "text/plain": "  0%|          | 0/29420 [00:00<?, ?it/s]",
      "application/vnd.jupyter.widget-view+json": {
       "version_major": 2,
       "version_minor": 0,
       "model_id": "d737125a9e3b4be7b8c697f7fc73e273"
      }
     },
     "metadata": {},
     "output_type": "display_data"
    }
   ],
   "source": [
    "doc_count = 1\n",
    "doc_labels = []\n",
    "test_start = int(num_docs * (1 - test_docs_per)) + 1\n",
    "for i in tqdm(range(1, test_start)):\n",
    "    text = read_file(f\"{sumpubmed_path}/line_text/text_{i}.txt\", doc_len, sep)\n",
    "    abst = read_file(f\"{sumpubmed_path}/shorter_abstract/abst_{i}.txt\", abst_len, sep)\n",
    "    doc_data = \"[CLS] \" + text + \" [SEP] \" + abst + \" [SEP]\"\n",
    "    for j in range(num_neg_ex):\n",
    "        # Write positive example\n",
    "        write_file(f\"{data_path}/preprocessed/{sep.lower()}/train/data_{doc_count}.txt\", doc_data)\n",
    "        doc_labels.append(pos_label)\n",
    "        doc_count += 1\n",
    "\n",
    "        # Write negative example\n",
    "        neg_ex_index = random.choice([k for k in range(1,num_docs+1) if k not in [i]])\n",
    "        neg_ex_abst = read_file(f\"{sumpubmed_path}/shorter_abstract/abst_{neg_ex_index}.txt\", abst_len, sep)\n",
    "        neg_ex_data = \"[CLS] \" + text + \" [SEP] \" + neg_ex_abst + \" [SEP]\"\n",
    "        write_file(f\"{data_path}/preprocessed/{sep.lower()}/train/data_{doc_count}.txt\", neg_ex_data)\n",
    "        doc_labels.append(neg_label)\n",
    "        doc_count += 1\n",
    "\n",
    "write_file(f\"{data_path}/preprocessed/{sep.lower()}/train/labels.txt\", \"\\n\".join(doc_labels))"
   ],
   "metadata": {
    "id": "b9b519c033aca707",
    "executionInfo": {
     "status": "ok",
     "timestamp": 1704203451707,
     "user_tz": -120,
     "elapsed": 321852,
     "user": {
      "displayName": "Vasilis Andritsoudis",
      "userId": "01327387119465771821"
     }
    },
    "colab": {
     "base_uri": "https://localhost:8080/",
     "height": 49,
     "referenced_widgets": [
      "dbfc286151f34017ab8a25d9f0a3de1e",
      "7515411d42c04e7b9f557534fafdb2e4",
      "d3d4c759bf3342f6a91f1a1fa712a149",
      "ec6de3fb5a73442aafd8cb55699a1dc5",
      "aca2ef3921324d30b5d0ea3585e56731",
      "b717467c0fcc4650887d04dddc1f5d9c",
      "5226a64fcd1c405bb54cd48ec05dd8f4",
      "65c9364d9a274a1bbdc870768e875ff3",
      "dd1921c6c67c4f0f870d436cad6a4438",
      "56f7e664db44410b828180e500bea33c",
      "f160b18e30e84236bf5ed22fc023447b"
     ]
    },
    "outputId": "114de77b-2611-42f5-ff8b-029ae770da4b",
    "ExecuteTime": {
     "end_time": "2024-01-07T16:49:25.801046100Z",
     "start_time": "2024-01-07T16:46:32.479845800Z"
    }
   },
   "id": "b9b519c033aca707"
  },
  {
   "cell_type": "markdown",
   "source": [
    "### Test Dataset"
   ],
   "metadata": {
    "collapsed": false,
    "id": "94e591ff9ff55d0f"
   },
   "id": "94e591ff9ff55d0f"
  },
  {
   "cell_type": "code",
   "outputs": [
    {
     "data": {
      "text/plain": "  0%|          | 0/3269 [00:00<?, ?it/s]",
      "application/vnd.jupyter.widget-view+json": {
       "version_major": 2,
       "version_minor": 0,
       "model_id": "5cae519c3a6b4356b77ab3de2c514d85"
      }
     },
     "metadata": {},
     "output_type": "display_data"
    }
   ],
   "source": [
    "doc_count = 1\n",
    "doc_labels = []\n",
    "for i in tqdm(range(test_start, num_docs+1)):\n",
    "    text = read_file(f\"{sumpubmed_path}/line_text/text_{i}.txt\", doc_len, sep)\n",
    "    abst = read_file(f\"{sumpubmed_path}/shorter_abstract/abst_{i}.txt\", abst_len, sep)\n",
    "    doc_data = \"[CLS] \" + text + \" [SEP] \" + abst + \" [SEP]\"\n",
    "    for j in range(num_neg_ex):\n",
    "        # Write positive example\n",
    "        write_file(f\"{data_path}/preprocessed/{sep.lower()}/test/data_{doc_count}.txt\", doc_data)\n",
    "        doc_labels.append(pos_label)\n",
    "        doc_count += 1\n",
    "\n",
    "        # Write negative example\n",
    "        neg_ex_index = random.choice([k for k in range(1,num_docs+1) if k not in [i]])\n",
    "        neg_ex_abst = read_file(f\"{sumpubmed_path}/shorter_abstract/abst_{neg_ex_index}.txt\", abst_len, sep)\n",
    "        neg_ex_data = \"[CLS] \" + text + \" [SEP] \" + neg_ex_abst + \" [SEP]\"\n",
    "        write_file(f\"{data_path}/preprocessed/{sep.lower()}/test/data_{doc_count}.txt\", neg_ex_data)\n",
    "        doc_labels.append(neg_label)\n",
    "        doc_count += 1\n",
    "\n",
    "write_file(f\"{data_path}/preprocessed/{sep.lower()}/test/labels.txt\", \"\\n\".join(doc_labels))"
   ],
   "metadata": {
    "colab": {
     "base_uri": "https://localhost:8080/",
     "height": 49,
     "referenced_widgets": [
      "ba86f6be547a4ca097cda31ef39e1094",
      "8bcb7075b7814b048be3b6432167c125",
      "1a4ed2c6796a4c679da9551a7ca1d7df",
      "a073950694c54d56bf5b0e538bacc2e7",
      "5b69b0c7d49b40e0a647c7e45eeb36ae",
      "34b0ab8c857b444698d17d452da7a92b",
      "d8702a3727b44534a7630ac737187ad2",
      "144cbc935c6e40ffaae4aa3741618e54",
      "b8964a0e8f2644fd834d3f7bced866ce",
      "449f8e45c8a840adaf81d309fc71607c",
      "7b3d2fc303bf4ce28a612f1385de963d"
     ]
    },
    "id": "278ac3ff445ba235",
    "executionInfo": {
     "status": "ok",
     "timestamp": 1704203487762,
     "user_tz": -120,
     "elapsed": 36089,
     "user": {
      "displayName": "Vasilis Andritsoudis",
      "userId": "01327387119465771821"
     }
    },
    "outputId": "2a13b17b-69da-47a6-8c09-ae6b91f71d75",
    "ExecuteTime": {
     "end_time": "2024-01-07T16:49:51.368430800Z",
     "start_time": "2024-01-07T16:49:25.803046800Z"
    }
   },
   "id": "278ac3ff445ba235",
   "execution_count": 16
  }
 ],
 "metadata": {
  "kernelspec": {
   "display_name": "Python 3",
   "language": "python",
   "name": "python3"
  },
  "language_info": {
   "codemirror_mode": {
    "name": "ipython",
    "version": 2
   },
   "file_extension": ".py",
   "mimetype": "text/x-python",
   "name": "python",
   "nbconvert_exporter": "python",
   "pygments_lexer": "ipython2",
   "version": "2.7.6"
  },
  "colab": {
   "provenance": []
  },
  "widgets": {
   "application/vnd.jupyter.widget-state+json": {
    "71573df727a440eb9b284fce1a9a6365": {
     "model_module": "@jupyter-widgets/controls",
     "model_name": "HBoxModel",
     "model_module_version": "1.5.0",
     "state": {
      "_dom_classes": [],
      "_model_module": "@jupyter-widgets/controls",
      "_model_module_version": "1.5.0",
      "_model_name": "HBoxModel",
      "_view_count": null,
      "_view_module": "@jupyter-widgets/controls",
      "_view_module_version": "1.5.0",
      "_view_name": "HBoxView",
      "box_style": "",
      "children": [
       "IPY_MODEL_0a66a14a3ed449ff955b1e7b8bd8d17b",
       "IPY_MODEL_f0cf12e04d8b43b291e94ed9998fee5a",
       "IPY_MODEL_48e7bb4cf65240b39c317e44b3088779"
      ],
      "layout": "IPY_MODEL_fcfda5f5752a4f7cb7b58334d68a0235"
     }
    },
    "0a66a14a3ed449ff955b1e7b8bd8d17b": {
     "model_module": "@jupyter-widgets/controls",
     "model_name": "HTMLModel",
     "model_module_version": "1.5.0",
     "state": {
      "_dom_classes": [],
      "_model_module": "@jupyter-widgets/controls",
      "_model_module_version": "1.5.0",
      "_model_name": "HTMLModel",
      "_view_count": null,
      "_view_module": "@jupyter-widgets/controls",
      "_view_module_version": "1.5.0",
      "_view_name": "HTMLView",
      "description": "",
      "description_tooltip": null,
      "layout": "IPY_MODEL_6e6ba1d0590a4b8897d85ef9b26272e0",
      "placeholder": "​",
      "style": "IPY_MODEL_2d41f597ccf3485f880a43d22b76712f",
      "value": "100%"
     }
    },
    "f0cf12e04d8b43b291e94ed9998fee5a": {
     "model_module": "@jupyter-widgets/controls",
     "model_name": "FloatProgressModel",
     "model_module_version": "1.5.0",
     "state": {
      "_dom_classes": [],
      "_model_module": "@jupyter-widgets/controls",
      "_model_module_version": "1.5.0",
      "_model_name": "FloatProgressModel",
      "_view_count": null,
      "_view_module": "@jupyter-widgets/controls",
      "_view_module_version": "1.5.0",
      "_view_name": "ProgressView",
      "bar_style": "success",
      "description": "",
      "description_tooltip": null,
      "layout": "IPY_MODEL_b694e9749b1947f080460a9c4f150db8",
      "max": 29420,
      "min": 0,
      "orientation": "horizontal",
      "style": "IPY_MODEL_4a158932ef0f426c968ace03d2bbc7f2",
      "value": 29420
     }
    },
    "48e7bb4cf65240b39c317e44b3088779": {
     "model_module": "@jupyter-widgets/controls",
     "model_name": "HTMLModel",
     "model_module_version": "1.5.0",
     "state": {
      "_dom_classes": [],
      "_model_module": "@jupyter-widgets/controls",
      "_model_module_version": "1.5.0",
      "_model_name": "HTMLModel",
      "_view_count": null,
      "_view_module": "@jupyter-widgets/controls",
      "_view_module_version": "1.5.0",
      "_view_name": "HTMLView",
      "description": "",
      "description_tooltip": null,
      "layout": "IPY_MODEL_ec864d7a678e4edd9220d7d9252de6e6",
      "placeholder": "​",
      "style": "IPY_MODEL_a1c3aa1cc5d6420f9e11b768125590b5",
      "value": " 29420/29420 [05:28&lt;00:00, 71.76it/s]"
     }
    },
    "fcfda5f5752a4f7cb7b58334d68a0235": {
     "model_module": "@jupyter-widgets/base",
     "model_name": "LayoutModel",
     "model_module_version": "1.2.0",
     "state": {
      "_model_module": "@jupyter-widgets/base",
      "_model_module_version": "1.2.0",
      "_model_name": "LayoutModel",
      "_view_count": null,
      "_view_module": "@jupyter-widgets/base",
      "_view_module_version": "1.2.0",
      "_view_name": "LayoutView",
      "align_content": null,
      "align_items": null,
      "align_self": null,
      "border": null,
      "bottom": null,
      "display": null,
      "flex": null,
      "flex_flow": null,
      "grid_area": null,
      "grid_auto_columns": null,
      "grid_auto_flow": null,
      "grid_auto_rows": null,
      "grid_column": null,
      "grid_gap": null,
      "grid_row": null,
      "grid_template_areas": null,
      "grid_template_columns": null,
      "grid_template_rows": null,
      "height": null,
      "justify_content": null,
      "justify_items": null,
      "left": null,
      "margin": null,
      "max_height": null,
      "max_width": null,
      "min_height": null,
      "min_width": null,
      "object_fit": null,
      "object_position": null,
      "order": null,
      "overflow": null,
      "overflow_x": null,
      "overflow_y": null,
      "padding": null,
      "right": null,
      "top": null,
      "visibility": null,
      "width": null
     }
    },
    "6e6ba1d0590a4b8897d85ef9b26272e0": {
     "model_module": "@jupyter-widgets/base",
     "model_name": "LayoutModel",
     "model_module_version": "1.2.0",
     "state": {
      "_model_module": "@jupyter-widgets/base",
      "_model_module_version": "1.2.0",
      "_model_name": "LayoutModel",
      "_view_count": null,
      "_view_module": "@jupyter-widgets/base",
      "_view_module_version": "1.2.0",
      "_view_name": "LayoutView",
      "align_content": null,
      "align_items": null,
      "align_self": null,
      "border": null,
      "bottom": null,
      "display": null,
      "flex": null,
      "flex_flow": null,
      "grid_area": null,
      "grid_auto_columns": null,
      "grid_auto_flow": null,
      "grid_auto_rows": null,
      "grid_column": null,
      "grid_gap": null,
      "grid_row": null,
      "grid_template_areas": null,
      "grid_template_columns": null,
      "grid_template_rows": null,
      "height": null,
      "justify_content": null,
      "justify_items": null,
      "left": null,
      "margin": null,
      "max_height": null,
      "max_width": null,
      "min_height": null,
      "min_width": null,
      "object_fit": null,
      "object_position": null,
      "order": null,
      "overflow": null,
      "overflow_x": null,
      "overflow_y": null,
      "padding": null,
      "right": null,
      "top": null,
      "visibility": null,
      "width": null
     }
    },
    "2d41f597ccf3485f880a43d22b76712f": {
     "model_module": "@jupyter-widgets/controls",
     "model_name": "DescriptionStyleModel",
     "model_module_version": "1.5.0",
     "state": {
      "_model_module": "@jupyter-widgets/controls",
      "_model_module_version": "1.5.0",
      "_model_name": "DescriptionStyleModel",
      "_view_count": null,
      "_view_module": "@jupyter-widgets/base",
      "_view_module_version": "1.2.0",
      "_view_name": "StyleView",
      "description_width": ""
     }
    },
    "b694e9749b1947f080460a9c4f150db8": {
     "model_module": "@jupyter-widgets/base",
     "model_name": "LayoutModel",
     "model_module_version": "1.2.0",
     "state": {
      "_model_module": "@jupyter-widgets/base",
      "_model_module_version": "1.2.0",
      "_model_name": "LayoutModel",
      "_view_count": null,
      "_view_module": "@jupyter-widgets/base",
      "_view_module_version": "1.2.0",
      "_view_name": "LayoutView",
      "align_content": null,
      "align_items": null,
      "align_self": null,
      "border": null,
      "bottom": null,
      "display": null,
      "flex": null,
      "flex_flow": null,
      "grid_area": null,
      "grid_auto_columns": null,
      "grid_auto_flow": null,
      "grid_auto_rows": null,
      "grid_column": null,
      "grid_gap": null,
      "grid_row": null,
      "grid_template_areas": null,
      "grid_template_columns": null,
      "grid_template_rows": null,
      "height": null,
      "justify_content": null,
      "justify_items": null,
      "left": null,
      "margin": null,
      "max_height": null,
      "max_width": null,
      "min_height": null,
      "min_width": null,
      "object_fit": null,
      "object_position": null,
      "order": null,
      "overflow": null,
      "overflow_x": null,
      "overflow_y": null,
      "padding": null,
      "right": null,
      "top": null,
      "visibility": null,
      "width": null
     }
    },
    "4a158932ef0f426c968ace03d2bbc7f2": {
     "model_module": "@jupyter-widgets/controls",
     "model_name": "ProgressStyleModel",
     "model_module_version": "1.5.0",
     "state": {
      "_model_module": "@jupyter-widgets/controls",
      "_model_module_version": "1.5.0",
      "_model_name": "ProgressStyleModel",
      "_view_count": null,
      "_view_module": "@jupyter-widgets/base",
      "_view_module_version": "1.2.0",
      "_view_name": "StyleView",
      "bar_color": null,
      "description_width": ""
     }
    },
    "ec864d7a678e4edd9220d7d9252de6e6": {
     "model_module": "@jupyter-widgets/base",
     "model_name": "LayoutModel",
     "model_module_version": "1.2.0",
     "state": {
      "_model_module": "@jupyter-widgets/base",
      "_model_module_version": "1.2.0",
      "_model_name": "LayoutModel",
      "_view_count": null,
      "_view_module": "@jupyter-widgets/base",
      "_view_module_version": "1.2.0",
      "_view_name": "LayoutView",
      "align_content": null,
      "align_items": null,
      "align_self": null,
      "border": null,
      "bottom": null,
      "display": null,
      "flex": null,
      "flex_flow": null,
      "grid_area": null,
      "grid_auto_columns": null,
      "grid_auto_flow": null,
      "grid_auto_rows": null,
      "grid_column": null,
      "grid_gap": null,
      "grid_row": null,
      "grid_template_areas": null,
      "grid_template_columns": null,
      "grid_template_rows": null,
      "height": null,
      "justify_content": null,
      "justify_items": null,
      "left": null,
      "margin": null,
      "max_height": null,
      "max_width": null,
      "min_height": null,
      "min_width": null,
      "object_fit": null,
      "object_position": null,
      "order": null,
      "overflow": null,
      "overflow_x": null,
      "overflow_y": null,
      "padding": null,
      "right": null,
      "top": null,
      "visibility": null,
      "width": null
     }
    },
    "a1c3aa1cc5d6420f9e11b768125590b5": {
     "model_module": "@jupyter-widgets/controls",
     "model_name": "DescriptionStyleModel",
     "model_module_version": "1.5.0",
     "state": {
      "_model_module": "@jupyter-widgets/controls",
      "_model_module_version": "1.5.0",
      "_model_name": "DescriptionStyleModel",
      "_view_count": null,
      "_view_module": "@jupyter-widgets/base",
      "_view_module_version": "1.2.0",
      "_view_name": "StyleView",
      "description_width": ""
     }
    },
    "3c4e83f17f5b44deba4c3cecedd61eb0": {
     "model_module": "@jupyter-widgets/controls",
     "model_name": "HBoxModel",
     "model_module_version": "1.5.0",
     "state": {
      "_dom_classes": [],
      "_model_module": "@jupyter-widgets/controls",
      "_model_module_version": "1.5.0",
      "_model_name": "HBoxModel",
      "_view_count": null,
      "_view_module": "@jupyter-widgets/controls",
      "_view_module_version": "1.5.0",
      "_view_name": "HBoxView",
      "box_style": "",
      "children": [
       "IPY_MODEL_4aa449801516457f90b80c0bc8aac55f",
       "IPY_MODEL_3b2b34275ed4481cb9a707fe05371579",
       "IPY_MODEL_6ab7863c29ca4e829d45170c4b929887"
      ],
      "layout": "IPY_MODEL_6044bbb5542c4beaa3a00d728871c87b"
     }
    },
    "4aa449801516457f90b80c0bc8aac55f": {
     "model_module": "@jupyter-widgets/controls",
     "model_name": "HTMLModel",
     "model_module_version": "1.5.0",
     "state": {
      "_dom_classes": [],
      "_model_module": "@jupyter-widgets/controls",
      "_model_module_version": "1.5.0",
      "_model_name": "HTMLModel",
      "_view_count": null,
      "_view_module": "@jupyter-widgets/controls",
      "_view_module_version": "1.5.0",
      "_view_name": "HTMLView",
      "description": "",
      "description_tooltip": null,
      "layout": "IPY_MODEL_28c0b715e56b4dfaad9ef6a689000904",
      "placeholder": "​",
      "style": "IPY_MODEL_12afcc0d2e674e5899e4b46b7feb14cf",
      "value": "100%"
     }
    },
    "3b2b34275ed4481cb9a707fe05371579": {
     "model_module": "@jupyter-widgets/controls",
     "model_name": "FloatProgressModel",
     "model_module_version": "1.5.0",
     "state": {
      "_dom_classes": [],
      "_model_module": "@jupyter-widgets/controls",
      "_model_module_version": "1.5.0",
      "_model_name": "FloatProgressModel",
      "_view_count": null,
      "_view_module": "@jupyter-widgets/controls",
      "_view_module_version": "1.5.0",
      "_view_name": "ProgressView",
      "bar_style": "success",
      "description": "",
      "description_tooltip": null,
      "layout": "IPY_MODEL_422ad7cda26f4cf2a6172f075112de31",
      "max": 3269,
      "min": 0,
      "orientation": "horizontal",
      "style": "IPY_MODEL_0db7bb81323c4ff9a7da36fd5f734cfb",
      "value": 3269
     }
    },
    "6ab7863c29ca4e829d45170c4b929887": {
     "model_module": "@jupyter-widgets/controls",
     "model_name": "HTMLModel",
     "model_module_version": "1.5.0",
     "state": {
      "_dom_classes": [],
      "_model_module": "@jupyter-widgets/controls",
      "_model_module_version": "1.5.0",
      "_model_name": "HTMLModel",
      "_view_count": null,
      "_view_module": "@jupyter-widgets/controls",
      "_view_module_version": "1.5.0",
      "_view_name": "HTMLView",
      "description": "",
      "description_tooltip": null,
      "layout": "IPY_MODEL_4805ef4174144e6e89a690b8fa58df01",
      "placeholder": "​",
      "style": "IPY_MODEL_685b075c94804fefa43ff54903b42f97",
      "value": " 3269/3269 [00:35&lt;00:00, 107.01it/s]"
     }
    },
    "6044bbb5542c4beaa3a00d728871c87b": {
     "model_module": "@jupyter-widgets/base",
     "model_name": "LayoutModel",
     "model_module_version": "1.2.0",
     "state": {
      "_model_module": "@jupyter-widgets/base",
      "_model_module_version": "1.2.0",
      "_model_name": "LayoutModel",
      "_view_count": null,
      "_view_module": "@jupyter-widgets/base",
      "_view_module_version": "1.2.0",
      "_view_name": "LayoutView",
      "align_content": null,
      "align_items": null,
      "align_self": null,
      "border": null,
      "bottom": null,
      "display": null,
      "flex": null,
      "flex_flow": null,
      "grid_area": null,
      "grid_auto_columns": null,
      "grid_auto_flow": null,
      "grid_auto_rows": null,
      "grid_column": null,
      "grid_gap": null,
      "grid_row": null,
      "grid_template_areas": null,
      "grid_template_columns": null,
      "grid_template_rows": null,
      "height": null,
      "justify_content": null,
      "justify_items": null,
      "left": null,
      "margin": null,
      "max_height": null,
      "max_width": null,
      "min_height": null,
      "min_width": null,
      "object_fit": null,
      "object_position": null,
      "order": null,
      "overflow": null,
      "overflow_x": null,
      "overflow_y": null,
      "padding": null,
      "right": null,
      "top": null,
      "visibility": null,
      "width": null
     }
    },
    "28c0b715e56b4dfaad9ef6a689000904": {
     "model_module": "@jupyter-widgets/base",
     "model_name": "LayoutModel",
     "model_module_version": "1.2.0",
     "state": {
      "_model_module": "@jupyter-widgets/base",
      "_model_module_version": "1.2.0",
      "_model_name": "LayoutModel",
      "_view_count": null,
      "_view_module": "@jupyter-widgets/base",
      "_view_module_version": "1.2.0",
      "_view_name": "LayoutView",
      "align_content": null,
      "align_items": null,
      "align_self": null,
      "border": null,
      "bottom": null,
      "display": null,
      "flex": null,
      "flex_flow": null,
      "grid_area": null,
      "grid_auto_columns": null,
      "grid_auto_flow": null,
      "grid_auto_rows": null,
      "grid_column": null,
      "grid_gap": null,
      "grid_row": null,
      "grid_template_areas": null,
      "grid_template_columns": null,
      "grid_template_rows": null,
      "height": null,
      "justify_content": null,
      "justify_items": null,
      "left": null,
      "margin": null,
      "max_height": null,
      "max_width": null,
      "min_height": null,
      "min_width": null,
      "object_fit": null,
      "object_position": null,
      "order": null,
      "overflow": null,
      "overflow_x": null,
      "overflow_y": null,
      "padding": null,
      "right": null,
      "top": null,
      "visibility": null,
      "width": null
     }
    },
    "12afcc0d2e674e5899e4b46b7feb14cf": {
     "model_module": "@jupyter-widgets/controls",
     "model_name": "DescriptionStyleModel",
     "model_module_version": "1.5.0",
     "state": {
      "_model_module": "@jupyter-widgets/controls",
      "_model_module_version": "1.5.0",
      "_model_name": "DescriptionStyleModel",
      "_view_count": null,
      "_view_module": "@jupyter-widgets/base",
      "_view_module_version": "1.2.0",
      "_view_name": "StyleView",
      "description_width": ""
     }
    },
    "422ad7cda26f4cf2a6172f075112de31": {
     "model_module": "@jupyter-widgets/base",
     "model_name": "LayoutModel",
     "model_module_version": "1.2.0",
     "state": {
      "_model_module": "@jupyter-widgets/base",
      "_model_module_version": "1.2.0",
      "_model_name": "LayoutModel",
      "_view_count": null,
      "_view_module": "@jupyter-widgets/base",
      "_view_module_version": "1.2.0",
      "_view_name": "LayoutView",
      "align_content": null,
      "align_items": null,
      "align_self": null,
      "border": null,
      "bottom": null,
      "display": null,
      "flex": null,
      "flex_flow": null,
      "grid_area": null,
      "grid_auto_columns": null,
      "grid_auto_flow": null,
      "grid_auto_rows": null,
      "grid_column": null,
      "grid_gap": null,
      "grid_row": null,
      "grid_template_areas": null,
      "grid_template_columns": null,
      "grid_template_rows": null,
      "height": null,
      "justify_content": null,
      "justify_items": null,
      "left": null,
      "margin": null,
      "max_height": null,
      "max_width": null,
      "min_height": null,
      "min_width": null,
      "object_fit": null,
      "object_position": null,
      "order": null,
      "overflow": null,
      "overflow_x": null,
      "overflow_y": null,
      "padding": null,
      "right": null,
      "top": null,
      "visibility": null,
      "width": null
     }
    },
    "0db7bb81323c4ff9a7da36fd5f734cfb": {
     "model_module": "@jupyter-widgets/controls",
     "model_name": "ProgressStyleModel",
     "model_module_version": "1.5.0",
     "state": {
      "_model_module": "@jupyter-widgets/controls",
      "_model_module_version": "1.5.0",
      "_model_name": "ProgressStyleModel",
      "_view_count": null,
      "_view_module": "@jupyter-widgets/base",
      "_view_module_version": "1.2.0",
      "_view_name": "StyleView",
      "bar_color": null,
      "description_width": ""
     }
    },
    "4805ef4174144e6e89a690b8fa58df01": {
     "model_module": "@jupyter-widgets/base",
     "model_name": "LayoutModel",
     "model_module_version": "1.2.0",
     "state": {
      "_model_module": "@jupyter-widgets/base",
      "_model_module_version": "1.2.0",
      "_model_name": "LayoutModel",
      "_view_count": null,
      "_view_module": "@jupyter-widgets/base",
      "_view_module_version": "1.2.0",
      "_view_name": "LayoutView",
      "align_content": null,
      "align_items": null,
      "align_self": null,
      "border": null,
      "bottom": null,
      "display": null,
      "flex": null,
      "flex_flow": null,
      "grid_area": null,
      "grid_auto_columns": null,
      "grid_auto_flow": null,
      "grid_auto_rows": null,
      "grid_column": null,
      "grid_gap": null,
      "grid_row": null,
      "grid_template_areas": null,
      "grid_template_columns": null,
      "grid_template_rows": null,
      "height": null,
      "justify_content": null,
      "justify_items": null,
      "left": null,
      "margin": null,
      "max_height": null,
      "max_width": null,
      "min_height": null,
      "min_width": null,
      "object_fit": null,
      "object_position": null,
      "order": null,
      "overflow": null,
      "overflow_x": null,
      "overflow_y": null,
      "padding": null,
      "right": null,
      "top": null,
      "visibility": null,
      "width": null
     }
    },
    "685b075c94804fefa43ff54903b42f97": {
     "model_module": "@jupyter-widgets/controls",
     "model_name": "DescriptionStyleModel",
     "model_module_version": "1.5.0",
     "state": {
      "_model_module": "@jupyter-widgets/controls",
      "_model_module_version": "1.5.0",
      "_model_name": "DescriptionStyleModel",
      "_view_count": null,
      "_view_module": "@jupyter-widgets/base",
      "_view_module_version": "1.2.0",
      "_view_name": "StyleView",
      "description_width": ""
     }
    },
    "dbfc286151f34017ab8a25d9f0a3de1e": {
     "model_module": "@jupyter-widgets/controls",
     "model_name": "HBoxModel",
     "model_module_version": "1.5.0",
     "state": {
      "_dom_classes": [],
      "_model_module": "@jupyter-widgets/controls",
      "_model_module_version": "1.5.0",
      "_model_name": "HBoxModel",
      "_view_count": null,
      "_view_module": "@jupyter-widgets/controls",
      "_view_module_version": "1.5.0",
      "_view_name": "HBoxView",
      "box_style": "",
      "children": [
       "IPY_MODEL_7515411d42c04e7b9f557534fafdb2e4",
       "IPY_MODEL_d3d4c759bf3342f6a91f1a1fa712a149",
       "IPY_MODEL_ec6de3fb5a73442aafd8cb55699a1dc5"
      ],
      "layout": "IPY_MODEL_aca2ef3921324d30b5d0ea3585e56731"
     }
    },
    "7515411d42c04e7b9f557534fafdb2e4": {
     "model_module": "@jupyter-widgets/controls",
     "model_name": "HTMLModel",
     "model_module_version": "1.5.0",
     "state": {
      "_dom_classes": [],
      "_model_module": "@jupyter-widgets/controls",
      "_model_module_version": "1.5.0",
      "_model_name": "HTMLModel",
      "_view_count": null,
      "_view_module": "@jupyter-widgets/controls",
      "_view_module_version": "1.5.0",
      "_view_name": "HTMLView",
      "description": "",
      "description_tooltip": null,
      "layout": "IPY_MODEL_b717467c0fcc4650887d04dddc1f5d9c",
      "placeholder": "​",
      "style": "IPY_MODEL_5226a64fcd1c405bb54cd48ec05dd8f4",
      "value": "100%"
     }
    },
    "d3d4c759bf3342f6a91f1a1fa712a149": {
     "model_module": "@jupyter-widgets/controls",
     "model_name": "FloatProgressModel",
     "model_module_version": "1.5.0",
     "state": {
      "_dom_classes": [],
      "_model_module": "@jupyter-widgets/controls",
      "_model_module_version": "1.5.0",
      "_model_name": "FloatProgressModel",
      "_view_count": null,
      "_view_module": "@jupyter-widgets/controls",
      "_view_module_version": "1.5.0",
      "_view_name": "ProgressView",
      "bar_style": "success",
      "description": "",
      "description_tooltip": null,
      "layout": "IPY_MODEL_65c9364d9a274a1bbdc870768e875ff3",
      "max": 29420,
      "min": 0,
      "orientation": "horizontal",
      "style": "IPY_MODEL_dd1921c6c67c4f0f870d436cad6a4438",
      "value": 29420
     }
    },
    "ec6de3fb5a73442aafd8cb55699a1dc5": {
     "model_module": "@jupyter-widgets/controls",
     "model_name": "HTMLModel",
     "model_module_version": "1.5.0",
     "state": {
      "_dom_classes": [],
      "_model_module": "@jupyter-widgets/controls",
      "_model_module_version": "1.5.0",
      "_model_name": "HTMLModel",
      "_view_count": null,
      "_view_module": "@jupyter-widgets/controls",
      "_view_module_version": "1.5.0",
      "_view_name": "HTMLView",
      "description": "",
      "description_tooltip": null,
      "layout": "IPY_MODEL_56f7e664db44410b828180e500bea33c",
      "placeholder": "​",
      "style": "IPY_MODEL_f160b18e30e84236bf5ed22fc023447b",
      "value": " 29420/29420 [05:21&lt;00:00, 57.78it/s]"
     }
    },
    "aca2ef3921324d30b5d0ea3585e56731": {
     "model_module": "@jupyter-widgets/base",
     "model_name": "LayoutModel",
     "model_module_version": "1.2.0",
     "state": {
      "_model_module": "@jupyter-widgets/base",
      "_model_module_version": "1.2.0",
      "_model_name": "LayoutModel",
      "_view_count": null,
      "_view_module": "@jupyter-widgets/base",
      "_view_module_version": "1.2.0",
      "_view_name": "LayoutView",
      "align_content": null,
      "align_items": null,
      "align_self": null,
      "border": null,
      "bottom": null,
      "display": null,
      "flex": null,
      "flex_flow": null,
      "grid_area": null,
      "grid_auto_columns": null,
      "grid_auto_flow": null,
      "grid_auto_rows": null,
      "grid_column": null,
      "grid_gap": null,
      "grid_row": null,
      "grid_template_areas": null,
      "grid_template_columns": null,
      "grid_template_rows": null,
      "height": null,
      "justify_content": null,
      "justify_items": null,
      "left": null,
      "margin": null,
      "max_height": null,
      "max_width": null,
      "min_height": null,
      "min_width": null,
      "object_fit": null,
      "object_position": null,
      "order": null,
      "overflow": null,
      "overflow_x": null,
      "overflow_y": null,
      "padding": null,
      "right": null,
      "top": null,
      "visibility": null,
      "width": null
     }
    },
    "b717467c0fcc4650887d04dddc1f5d9c": {
     "model_module": "@jupyter-widgets/base",
     "model_name": "LayoutModel",
     "model_module_version": "1.2.0",
     "state": {
      "_model_module": "@jupyter-widgets/base",
      "_model_module_version": "1.2.0",
      "_model_name": "LayoutModel",
      "_view_count": null,
      "_view_module": "@jupyter-widgets/base",
      "_view_module_version": "1.2.0",
      "_view_name": "LayoutView",
      "align_content": null,
      "align_items": null,
      "align_self": null,
      "border": null,
      "bottom": null,
      "display": null,
      "flex": null,
      "flex_flow": null,
      "grid_area": null,
      "grid_auto_columns": null,
      "grid_auto_flow": null,
      "grid_auto_rows": null,
      "grid_column": null,
      "grid_gap": null,
      "grid_row": null,
      "grid_template_areas": null,
      "grid_template_columns": null,
      "grid_template_rows": null,
      "height": null,
      "justify_content": null,
      "justify_items": null,
      "left": null,
      "margin": null,
      "max_height": null,
      "max_width": null,
      "min_height": null,
      "min_width": null,
      "object_fit": null,
      "object_position": null,
      "order": null,
      "overflow": null,
      "overflow_x": null,
      "overflow_y": null,
      "padding": null,
      "right": null,
      "top": null,
      "visibility": null,
      "width": null
     }
    },
    "5226a64fcd1c405bb54cd48ec05dd8f4": {
     "model_module": "@jupyter-widgets/controls",
     "model_name": "DescriptionStyleModel",
     "model_module_version": "1.5.0",
     "state": {
      "_model_module": "@jupyter-widgets/controls",
      "_model_module_version": "1.5.0",
      "_model_name": "DescriptionStyleModel",
      "_view_count": null,
      "_view_module": "@jupyter-widgets/base",
      "_view_module_version": "1.2.0",
      "_view_name": "StyleView",
      "description_width": ""
     }
    },
    "65c9364d9a274a1bbdc870768e875ff3": {
     "model_module": "@jupyter-widgets/base",
     "model_name": "LayoutModel",
     "model_module_version": "1.2.0",
     "state": {
      "_model_module": "@jupyter-widgets/base",
      "_model_module_version": "1.2.0",
      "_model_name": "LayoutModel",
      "_view_count": null,
      "_view_module": "@jupyter-widgets/base",
      "_view_module_version": "1.2.0",
      "_view_name": "LayoutView",
      "align_content": null,
      "align_items": null,
      "align_self": null,
      "border": null,
      "bottom": null,
      "display": null,
      "flex": null,
      "flex_flow": null,
      "grid_area": null,
      "grid_auto_columns": null,
      "grid_auto_flow": null,
      "grid_auto_rows": null,
      "grid_column": null,
      "grid_gap": null,
      "grid_row": null,
      "grid_template_areas": null,
      "grid_template_columns": null,
      "grid_template_rows": null,
      "height": null,
      "justify_content": null,
      "justify_items": null,
      "left": null,
      "margin": null,
      "max_height": null,
      "max_width": null,
      "min_height": null,
      "min_width": null,
      "object_fit": null,
      "object_position": null,
      "order": null,
      "overflow": null,
      "overflow_x": null,
      "overflow_y": null,
      "padding": null,
      "right": null,
      "top": null,
      "visibility": null,
      "width": null
     }
    },
    "dd1921c6c67c4f0f870d436cad6a4438": {
     "model_module": "@jupyter-widgets/controls",
     "model_name": "ProgressStyleModel",
     "model_module_version": "1.5.0",
     "state": {
      "_model_module": "@jupyter-widgets/controls",
      "_model_module_version": "1.5.0",
      "_model_name": "ProgressStyleModel",
      "_view_count": null,
      "_view_module": "@jupyter-widgets/base",
      "_view_module_version": "1.2.0",
      "_view_name": "StyleView",
      "bar_color": null,
      "description_width": ""
     }
    },
    "56f7e664db44410b828180e500bea33c": {
     "model_module": "@jupyter-widgets/base",
     "model_name": "LayoutModel",
     "model_module_version": "1.2.0",
     "state": {
      "_model_module": "@jupyter-widgets/base",
      "_model_module_version": "1.2.0",
      "_model_name": "LayoutModel",
      "_view_count": null,
      "_view_module": "@jupyter-widgets/base",
      "_view_module_version": "1.2.0",
      "_view_name": "LayoutView",
      "align_content": null,
      "align_items": null,
      "align_self": null,
      "border": null,
      "bottom": null,
      "display": null,
      "flex": null,
      "flex_flow": null,
      "grid_area": null,
      "grid_auto_columns": null,
      "grid_auto_flow": null,
      "grid_auto_rows": null,
      "grid_column": null,
      "grid_gap": null,
      "grid_row": null,
      "grid_template_areas": null,
      "grid_template_columns": null,
      "grid_template_rows": null,
      "height": null,
      "justify_content": null,
      "justify_items": null,
      "left": null,
      "margin": null,
      "max_height": null,
      "max_width": null,
      "min_height": null,
      "min_width": null,
      "object_fit": null,
      "object_position": null,
      "order": null,
      "overflow": null,
      "overflow_x": null,
      "overflow_y": null,
      "padding": null,
      "right": null,
      "top": null,
      "visibility": null,
      "width": null
     }
    },
    "f160b18e30e84236bf5ed22fc023447b": {
     "model_module": "@jupyter-widgets/controls",
     "model_name": "DescriptionStyleModel",
     "model_module_version": "1.5.0",
     "state": {
      "_model_module": "@jupyter-widgets/controls",
      "_model_module_version": "1.5.0",
      "_model_name": "DescriptionStyleModel",
      "_view_count": null,
      "_view_module": "@jupyter-widgets/base",
      "_view_module_version": "1.2.0",
      "_view_name": "StyleView",
      "description_width": ""
     }
    },
    "ba86f6be547a4ca097cda31ef39e1094": {
     "model_module": "@jupyter-widgets/controls",
     "model_name": "HBoxModel",
     "model_module_version": "1.5.0",
     "state": {
      "_dom_classes": [],
      "_model_module": "@jupyter-widgets/controls",
      "_model_module_version": "1.5.0",
      "_model_name": "HBoxModel",
      "_view_count": null,
      "_view_module": "@jupyter-widgets/controls",
      "_view_module_version": "1.5.0",
      "_view_name": "HBoxView",
      "box_style": "",
      "children": [
       "IPY_MODEL_8bcb7075b7814b048be3b6432167c125",
       "IPY_MODEL_1a4ed2c6796a4c679da9551a7ca1d7df",
       "IPY_MODEL_a073950694c54d56bf5b0e538bacc2e7"
      ],
      "layout": "IPY_MODEL_5b69b0c7d49b40e0a647c7e45eeb36ae"
     }
    },
    "8bcb7075b7814b048be3b6432167c125": {
     "model_module": "@jupyter-widgets/controls",
     "model_name": "HTMLModel",
     "model_module_version": "1.5.0",
     "state": {
      "_dom_classes": [],
      "_model_module": "@jupyter-widgets/controls",
      "_model_module_version": "1.5.0",
      "_model_name": "HTMLModel",
      "_view_count": null,
      "_view_module": "@jupyter-widgets/controls",
      "_view_module_version": "1.5.0",
      "_view_name": "HTMLView",
      "description": "",
      "description_tooltip": null,
      "layout": "IPY_MODEL_34b0ab8c857b444698d17d452da7a92b",
      "placeholder": "​",
      "style": "IPY_MODEL_d8702a3727b44534a7630ac737187ad2",
      "value": "100%"
     }
    },
    "1a4ed2c6796a4c679da9551a7ca1d7df": {
     "model_module": "@jupyter-widgets/controls",
     "model_name": "FloatProgressModel",
     "model_module_version": "1.5.0",
     "state": {
      "_dom_classes": [],
      "_model_module": "@jupyter-widgets/controls",
      "_model_module_version": "1.5.0",
      "_model_name": "FloatProgressModel",
      "_view_count": null,
      "_view_module": "@jupyter-widgets/controls",
      "_view_module_version": "1.5.0",
      "_view_name": "ProgressView",
      "bar_style": "success",
      "description": "",
      "description_tooltip": null,
      "layout": "IPY_MODEL_144cbc935c6e40ffaae4aa3741618e54",
      "max": 3269,
      "min": 0,
      "orientation": "horizontal",
      "style": "IPY_MODEL_b8964a0e8f2644fd834d3f7bced866ce",
      "value": 3269
     }
    },
    "a073950694c54d56bf5b0e538bacc2e7": {
     "model_module": "@jupyter-widgets/controls",
     "model_name": "HTMLModel",
     "model_module_version": "1.5.0",
     "state": {
      "_dom_classes": [],
      "_model_module": "@jupyter-widgets/controls",
      "_model_module_version": "1.5.0",
      "_model_name": "HTMLModel",
      "_view_count": null,
      "_view_module": "@jupyter-widgets/controls",
      "_view_module_version": "1.5.0",
      "_view_name": "HTMLView",
      "description": "",
      "description_tooltip": null,
      "layout": "IPY_MODEL_449f8e45c8a840adaf81d309fc71607c",
      "placeholder": "​",
      "style": "IPY_MODEL_7b3d2fc303bf4ce28a612f1385de963d",
      "value": " 3269/3269 [00:35&lt;00:00, 113.47it/s]"
     }
    },
    "5b69b0c7d49b40e0a647c7e45eeb36ae": {
     "model_module": "@jupyter-widgets/base",
     "model_name": "LayoutModel",
     "model_module_version": "1.2.0",
     "state": {
      "_model_module": "@jupyter-widgets/base",
      "_model_module_version": "1.2.0",
      "_model_name": "LayoutModel",
      "_view_count": null,
      "_view_module": "@jupyter-widgets/base",
      "_view_module_version": "1.2.0",
      "_view_name": "LayoutView",
      "align_content": null,
      "align_items": null,
      "align_self": null,
      "border": null,
      "bottom": null,
      "display": null,
      "flex": null,
      "flex_flow": null,
      "grid_area": null,
      "grid_auto_columns": null,
      "grid_auto_flow": null,
      "grid_auto_rows": null,
      "grid_column": null,
      "grid_gap": null,
      "grid_row": null,
      "grid_template_areas": null,
      "grid_template_columns": null,
      "grid_template_rows": null,
      "height": null,
      "justify_content": null,
      "justify_items": null,
      "left": null,
      "margin": null,
      "max_height": null,
      "max_width": null,
      "min_height": null,
      "min_width": null,
      "object_fit": null,
      "object_position": null,
      "order": null,
      "overflow": null,
      "overflow_x": null,
      "overflow_y": null,
      "padding": null,
      "right": null,
      "top": null,
      "visibility": null,
      "width": null
     }
    },
    "34b0ab8c857b444698d17d452da7a92b": {
     "model_module": "@jupyter-widgets/base",
     "model_name": "LayoutModel",
     "model_module_version": "1.2.0",
     "state": {
      "_model_module": "@jupyter-widgets/base",
      "_model_module_version": "1.2.0",
      "_model_name": "LayoutModel",
      "_view_count": null,
      "_view_module": "@jupyter-widgets/base",
      "_view_module_version": "1.2.0",
      "_view_name": "LayoutView",
      "align_content": null,
      "align_items": null,
      "align_self": null,
      "border": null,
      "bottom": null,
      "display": null,
      "flex": null,
      "flex_flow": null,
      "grid_area": null,
      "grid_auto_columns": null,
      "grid_auto_flow": null,
      "grid_auto_rows": null,
      "grid_column": null,
      "grid_gap": null,
      "grid_row": null,
      "grid_template_areas": null,
      "grid_template_columns": null,
      "grid_template_rows": null,
      "height": null,
      "justify_content": null,
      "justify_items": null,
      "left": null,
      "margin": null,
      "max_height": null,
      "max_width": null,
      "min_height": null,
      "min_width": null,
      "object_fit": null,
      "object_position": null,
      "order": null,
      "overflow": null,
      "overflow_x": null,
      "overflow_y": null,
      "padding": null,
      "right": null,
      "top": null,
      "visibility": null,
      "width": null
     }
    },
    "d8702a3727b44534a7630ac737187ad2": {
     "model_module": "@jupyter-widgets/controls",
     "model_name": "DescriptionStyleModel",
     "model_module_version": "1.5.0",
     "state": {
      "_model_module": "@jupyter-widgets/controls",
      "_model_module_version": "1.5.0",
      "_model_name": "DescriptionStyleModel",
      "_view_count": null,
      "_view_module": "@jupyter-widgets/base",
      "_view_module_version": "1.2.0",
      "_view_name": "StyleView",
      "description_width": ""
     }
    },
    "144cbc935c6e40ffaae4aa3741618e54": {
     "model_module": "@jupyter-widgets/base",
     "model_name": "LayoutModel",
     "model_module_version": "1.2.0",
     "state": {
      "_model_module": "@jupyter-widgets/base",
      "_model_module_version": "1.2.0",
      "_model_name": "LayoutModel",
      "_view_count": null,
      "_view_module": "@jupyter-widgets/base",
      "_view_module_version": "1.2.0",
      "_view_name": "LayoutView",
      "align_content": null,
      "align_items": null,
      "align_self": null,
      "border": null,
      "bottom": null,
      "display": null,
      "flex": null,
      "flex_flow": null,
      "grid_area": null,
      "grid_auto_columns": null,
      "grid_auto_flow": null,
      "grid_auto_rows": null,
      "grid_column": null,
      "grid_gap": null,
      "grid_row": null,
      "grid_template_areas": null,
      "grid_template_columns": null,
      "grid_template_rows": null,
      "height": null,
      "justify_content": null,
      "justify_items": null,
      "left": null,
      "margin": null,
      "max_height": null,
      "max_width": null,
      "min_height": null,
      "min_width": null,
      "object_fit": null,
      "object_position": null,
      "order": null,
      "overflow": null,
      "overflow_x": null,
      "overflow_y": null,
      "padding": null,
      "right": null,
      "top": null,
      "visibility": null,
      "width": null
     }
    },
    "b8964a0e8f2644fd834d3f7bced866ce": {
     "model_module": "@jupyter-widgets/controls",
     "model_name": "ProgressStyleModel",
     "model_module_version": "1.5.0",
     "state": {
      "_model_module": "@jupyter-widgets/controls",
      "_model_module_version": "1.5.0",
      "_model_name": "ProgressStyleModel",
      "_view_count": null,
      "_view_module": "@jupyter-widgets/base",
      "_view_module_version": "1.2.0",
      "_view_name": "StyleView",
      "bar_color": null,
      "description_width": ""
     }
    },
    "449f8e45c8a840adaf81d309fc71607c": {
     "model_module": "@jupyter-widgets/base",
     "model_name": "LayoutModel",
     "model_module_version": "1.2.0",
     "state": {
      "_model_module": "@jupyter-widgets/base",
      "_model_module_version": "1.2.0",
      "_model_name": "LayoutModel",
      "_view_count": null,
      "_view_module": "@jupyter-widgets/base",
      "_view_module_version": "1.2.0",
      "_view_name": "LayoutView",
      "align_content": null,
      "align_items": null,
      "align_self": null,
      "border": null,
      "bottom": null,
      "display": null,
      "flex": null,
      "flex_flow": null,
      "grid_area": null,
      "grid_auto_columns": null,
      "grid_auto_flow": null,
      "grid_auto_rows": null,
      "grid_column": null,
      "grid_gap": null,
      "grid_row": null,
      "grid_template_areas": null,
      "grid_template_columns": null,
      "grid_template_rows": null,
      "height": null,
      "justify_content": null,
      "justify_items": null,
      "left": null,
      "margin": null,
      "max_height": null,
      "max_width": null,
      "min_height": null,
      "min_width": null,
      "object_fit": null,
      "object_position": null,
      "order": null,
      "overflow": null,
      "overflow_x": null,
      "overflow_y": null,
      "padding": null,
      "right": null,
      "top": null,
      "visibility": null,
      "width": null
     }
    },
    "7b3d2fc303bf4ce28a612f1385de963d": {
     "model_module": "@jupyter-widgets/controls",
     "model_name": "DescriptionStyleModel",
     "model_module_version": "1.5.0",
     "state": {
      "_model_module": "@jupyter-widgets/controls",
      "_model_module_version": "1.5.0",
      "_model_name": "DescriptionStyleModel",
      "_view_count": null,
      "_view_module": "@jupyter-widgets/base",
      "_view_module_version": "1.2.0",
      "_view_name": "StyleView",
      "description_width": ""
     }
    }
   }
  }
 },
 "nbformat": 4,
 "nbformat_minor": 5
}
