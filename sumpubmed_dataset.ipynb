{
 "cells": [
  {
   "cell_type": "markdown",
   "source": [
    "# SumPubMed Dataset Creation\n",
    "The produced Dataset will have the following structure:\n",
    "* Each document (text+abstract) entry is saved in a different file (eg. data_{i}.txt)\n",
    "* Each document has the following structure: [CLS] text [SEP] abstract [SEP]\n",
    "* The labels of the documents are saved in a single file (eg. labels.txt), where each line corresponds to the document with id equal to the line number. "
   ],
   "metadata": {
    "collapsed": false
   },
   "id": "4797e7e7a501cd12"
  },
  {
   "cell_type": "code",
   "execution_count": 1,
   "outputs": [],
   "source": [
    "import os\n",
    "import random"
   ],
   "metadata": {
    "collapsed": false,
    "ExecuteTime": {
     "end_time": "2023-12-29T21:33:25.582031300Z",
     "start_time": "2023-12-29T21:33:25.539965700Z"
    }
   },
   "id": "4f7163347e710d3f"
  },
  {
   "cell_type": "markdown",
   "source": [
    "## Parameter declaration"
   ],
   "metadata": {
    "collapsed": false
   },
   "id": "236fd544a82ebbea"
  },
  {
   "cell_type": "code",
   "execution_count": 2,
   "outputs": [],
   "source": [
    "num_docs = 32689\n",
    "num_neg_ex = 2\n",
    "\n",
    "pos_label = \"1\"\n",
    "neg_label = \"0\"\n",
    "\n",
    "doc_len = 512\n",
    "abst_len = 64\n",
    "\n",
    "test_docs_per = 0.1"
   ],
   "metadata": {
    "collapsed": false,
    "ExecuteTime": {
     "end_time": "2023-12-29T21:33:25.632029600Z",
     "start_time": "2023-12-29T21:33:25.575042100Z"
    }
   },
   "id": "8ceacbd21c06e074"
  },
  {
   "cell_type": "markdown",
   "source": [
    "## Utility functions"
   ],
   "metadata": {
    "collapsed": false
   },
   "id": "4ecccbd45ca751b3"
  },
  {
   "cell_type": "code",
   "execution_count": 3,
   "outputs": [],
   "source": [
    "def read_file(path, seq_length):\n",
    "    with open(path, encoding=\"utf8\") as f:\n",
    "        data = f.read()\n",
    "        f.close()\n",
    "        words = data.split(\" \")\n",
    "        text = ' '.join((words[:seq_length])) if len(words) > seq_length else ' '.join(words)\n",
    "    return text\n",
    "    \n",
    "def write_file(path, data):\n",
    "    os.makedirs(os.path.dirname(path), exist_ok=True)\n",
    "    with open(path, \"w\", encoding=\"utf8\") as f:\n",
    "        f.write(data)\n",
    "        f.close()"
   ],
   "metadata": {
    "collapsed": false,
    "ExecuteTime": {
     "end_time": "2023-12-29T21:33:25.670327700Z",
     "start_time": "2023-12-29T21:33:25.621031500Z"
    }
   },
   "id": "c2b86344c46bf9a4"
  },
  {
   "cell_type": "markdown",
   "source": [
    "## Dataset construction containing raw data\n",
    "The SuPubMed Data is split into train and test sets.\n",
    "\n",
    "Each Dataset is constructed as follows:\n",
    "1. Each document is written to a separate file.\n",
    "2. The text and abstract are truncated in order to match the desired lengths.\n",
    "3. Each document is constructed by concatenating the text and abstract of a paper using special separators ([CLS], [SEP]).\n",
    "4. Negative examples are produced by picking random abstracts of other documents and creating a new negative entry as described above.\n",
    "5. Each positive example is copied as many times as needed in order to balance the positive and negative examples.\n",
    "6. The labels are written into a single document, where each line corresponds to the document with id equal to the line number. "
   ],
   "metadata": {
    "collapsed": false
   },
   "id": "9cb110f786d6efcf"
  },
  {
   "cell_type": "markdown",
   "source": [
    "### Train Dataset"
   ],
   "metadata": {
    "collapsed": false
   },
   "id": "c9fb4c30acbc6eda"
  },
  {
   "cell_type": "code",
   "execution_count": null,
   "outputs": [],
   "source": [
    "doc_count = 1\n",
    "doc_labels = []\n",
    "test_start = int(num_docs * (1 - test_docs_per)) + 1\n",
    "for i in range(1, test_start):\n",
    "    text = read_file(f\"sumpubmed\\\\line_text\\\\text_{i}.txt\", doc_len)\n",
    "    abst = read_file(f\"sumpubmed\\\\shorter_abstract\\\\abst_{i}.txt\", abst_len)\n",
    "    doc_data = \"[CLS] \" + text + \" [SEP] \" + abst + \" [SEP]\"\n",
    "    doc_label = pos_label\n",
    "    for j in range(num_neg_ex):\n",
    "        # Write positive example\n",
    "        write_file(f\"data\\\\raw\\\\train\\\\data_{doc_count}.txt\", doc_data)\n",
    "        doc_labels.append(doc_label)\n",
    "        doc_count += 1\n",
    "        \n",
    "        # Write negative example\n",
    "        neg_ex_index = random.choice([k for k in range(1,num_docs+1) if k not in [i]])\n",
    "        neg_ex_abst = read_file(f\"sumpubmed\\\\shorter_abstract\\\\abst_{neg_ex_index}.txt\", abst_len)\n",
    "        neg_ex_data = \"[CLS] \" + text + \" [SEP] \" + neg_ex_abst + \" [SEP]\"\n",
    "        write_file(f\"data\\\\raw\\\\train\\\\data_{doc_count}.txt\", neg_ex_data)\n",
    "        doc_labels.append(neg_label)\n",
    "        doc_count += 1\n",
    "        \n",
    "write_file(f\"data\\\\raw\\\\train\\\\labels.txt\", \"\\n\".join(doc_labels))"
   ],
   "metadata": {
    "collapsed": false,
    "is_executing": true,
    "ExecuteTime": {
     "start_time": "2023-12-29T21:33:25.659275100Z"
    }
   },
   "id": "e144cc30d1931a6b"
  },
  {
   "cell_type": "markdown",
   "source": [
    "### Test Dataset"
   ],
   "metadata": {
    "collapsed": false
   },
   "id": "152273d653a4545c"
  },
  {
   "cell_type": "code",
   "execution_count": null,
   "outputs": [],
   "source": [
    "doc_count = 1\n",
    "doc_labels = []\n",
    "for i in range(test_start, num_docs+1):\n",
    "    text = read_file(f\"sumpubmed\\\\line_text\\\\text_{i}.txt\", doc_len)\n",
    "    abst = read_file(f\"sumpubmed\\\\shorter_abstract\\\\abst_{i}.txt\", abst_len)\n",
    "    doc_data = \"[CLS] \" + text + \" [SEP] \" + abst + \" [SEP]\"\n",
    "    doc_label = pos_label\n",
    "    for j in range(num_neg_ex):\n",
    "        # Write positive example\n",
    "        write_file(f\"data\\\\raw\\\\test\\\\data_{doc_count}.txt\", doc_data)\n",
    "        doc_labels.append(doc_label)\n",
    "        doc_count += 1\n",
    "        \n",
    "        # Write negative example\n",
    "        neg_ex_index = random.choice([k for k in range(1,num_docs+1) if k not in [i]])\n",
    "        neg_ex_abst = read_file(f\"sumpubmed\\\\shorter_abstract\\\\abst_{neg_ex_index}.txt\", abst_len)\n",
    "        neg_ex_data = \"[CLS] \" + text + \" [SEP] \" + neg_ex_abst + \" [SEP]\"\n",
    "        write_file(f\"data\\\\raw\\\\test\\\\data_{doc_count}.txt\", neg_ex_data)\n",
    "        doc_labels.append(neg_label)\n",
    "        doc_count += 1\n",
    "        \n",
    "write_file(f\"data\\\\raw\\\\test\\\\labels.txt\", \"\\n\".join(doc_labels))"
   ],
   "metadata": {
    "collapsed": false,
    "is_executing": true
   },
   "id": "8223bfe5ff59566a"
  },
  {
   "cell_type": "markdown",
   "source": [
    "## Dataset construction by removing stop-words"
   ],
   "metadata": {
    "collapsed": false
   },
   "id": "a1c4bce1dc5655ce"
  },
  {
   "cell_type": "code",
   "execution_count": null,
   "outputs": [],
   "source": [],
   "metadata": {
    "collapsed": false,
    "is_executing": true
   },
   "id": "b9b519c033aca707"
  }
 ],
 "metadata": {
  "kernelspec": {
   "display_name": "Python 3",
   "language": "python",
   "name": "python3"
  },
  "language_info": {
   "codemirror_mode": {
    "name": "ipython",
    "version": 2
   },
   "file_extension": ".py",
   "mimetype": "text/x-python",
   "name": "python",
   "nbconvert_exporter": "python",
   "pygments_lexer": "ipython2",
   "version": "2.7.6"
  }
 },
 "nbformat": 4,
 "nbformat_minor": 5
}
