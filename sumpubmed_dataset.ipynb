{
 "cells": [
  {
   "cell_type": "markdown",
   "source": [
    "Notes:\n",
    "* We will use the sumpubmed dataset. It is pubmed but processed.\n",
    "* We will truncate all texts to 1250 characters and all abstracts to 250 characters\n",
    "    * It is important to note that DANCER (or other similar methods) can be used to segment the documents\n",
    "* We will use <CLS>text<SEP>abstract<SEP>"
   ],
   "metadata": {
    "collapsed": false
   },
   "id": "4797e7e7a501cd12"
  },
  {
   "cell_type": "code",
   "execution_count": 7,
   "outputs": [],
   "source": [
    "import os\n",
    "\n",
    "num_of_docs = 32689\n",
    "doc_len = 512\n",
    "abst_len = 64"
   ],
   "metadata": {
    "collapsed": false,
    "ExecuteTime": {
     "end_time": "2023-12-27T19:51:15.800838100Z",
     "start_time": "2023-12-27T19:51:15.728831500Z"
    }
   },
   "id": "8ceacbd21c06e074"
  },
  {
   "cell_type": "code",
   "execution_count": 8,
   "outputs": [],
   "source": [
    "for i in range(1, num_of_docs+1):\n",
    "    with open(f\"sumpubmed\\\\line_text\\\\text_{i}.txt\", encoding=\"utf8\") as f:\n",
    "        data = f.read()\n",
    "        f.close()\n",
    "        words = data.split(\" \")\n",
    "        text = ' '.join((words[:doc_len])) if len(words) > doc_len else ' '.join(words)\n",
    "    \n",
    "    with open(f\"sumpubmed\\\\shorter_abstract\\\\abst_{i}.txt\", encoding=\"utf8\") as f:\n",
    "        data = f.read()\n",
    "        f.close()\n",
    "        words = data.split(\" \")\n",
    "        abst = ' '.join((words[:abst_len])) if len(words) > abst_len else ' '.join(words)\n",
    "    \n",
    "    os.makedirs(os.path.dirname(f\"data\\\\data_{i}.txt\"), exist_ok=True)\n",
    "    with open(f\"data\\\\data_{i}.txt\", \"w\", encoding=\"utf8\") as f:\n",
    "        data = \"[CLS] \" + text + \" [SEP] \" + abst + \" [SEP]\"\n",
    "        f.write(data)\n",
    "        f.close()"
   ],
   "metadata": {
    "collapsed": false,
    "ExecuteTime": {
     "end_time": "2023-12-27T19:58:06.071935300Z",
     "start_time": "2023-12-27T19:51:15.781846700Z"
    }
   },
   "id": "e144cc30d1931a6b"
  },
  {
   "cell_type": "markdown",
   "source": [
    "Remove stop-words"
   ],
   "metadata": {
    "collapsed": false
   },
   "id": "a1c4bce1dc5655ce"
  }
 ],
 "metadata": {
  "kernelspec": {
   "display_name": "Python 3",
   "language": "python",
   "name": "python3"
  },
  "language_info": {
   "codemirror_mode": {
    "name": "ipython",
    "version": 2
   },
   "file_extension": ".py",
   "mimetype": "text/x-python",
   "name": "python",
   "nbconvert_exporter": "python",
   "pygments_lexer": "ipython2",
   "version": "2.7.6"
  }
 },
 "nbformat": 4,
 "nbformat_minor": 5
}
