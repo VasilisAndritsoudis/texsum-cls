{
 "cells": [
  {
   "cell_type": "markdown",
   "metadata": {
    "id": "__R6lAyP3YNm"
   },
   "source": [
    "### Used only for Google Colab\n",
    "Run before everything"
   ],
   "id": "__R6lAyP3YNm"
  },
  {
   "cell_type": "code",
   "execution_count": 1,
   "metadata": {
    "colab": {
     "base_uri": "https://localhost:8080/"
    },
    "collapsed": true,
    "id": "initial_id",
    "executionInfo": {
     "status": "ok",
     "timestamp": 1704635296713,
     "user_tz": -120,
     "elapsed": 5981,
     "user": {
      "displayName": "Vasilis Andritsoudis",
      "userId": "01327387119465771821"
     }
    },
    "outputId": "918983fa-d044-4d4a-ef40-047c8e4628b9",
    "ExecuteTime": {
     "end_time": "2024-01-12T09:06:19.180641900Z",
     "start_time": "2024-01-12T09:06:16.060641300Z"
    }
   },
   "outputs": [
    {
     "name": "stdout",
     "output_type": "stream",
     "text": [
      "True\n"
     ]
    }
   ],
   "source": [
    "from transformers import BertTokenizerFast, BertModel\n",
    "from transformers import AdamW\n",
    "from tqdm.auto import tqdm\n",
    "\n",
    "import torch\n",
    "from torch.utils.data import DataLoader\n",
    "\n",
    "from sklearn.model_selection import train_test_split\n",
    "from sklearn.metrics import f1_score, accuracy_score\n",
    "\n",
    "import pandas as pd\n",
    "import numpy as np\n",
    "import os\n",
    "\n",
    "import warnings\n",
    "warnings.filterwarnings('ignore')\n",
    "\n",
    "print(torch.cuda.is_available())"
   ],
   "id": "initial_id"
  },
  {
   "cell_type": "markdown",
   "metadata": {
    "collapsed": false,
    "id": "80997f36d79e8a9e"
   },
   "source": [
    "## Dataset Parameters"
   ],
   "id": "80997f36d79e8a9e"
  },
  {
   "cell_type": "code",
   "execution_count": 2,
   "metadata": {
    "id": "7e74d91e8d9baa1c",
    "executionInfo": {
     "status": "ok",
     "timestamp": 1704635296713,
     "user_tz": -120,
     "elapsed": 5,
     "user": {
      "displayName": "Vasilis Andritsoudis",
      "userId": "01327387119465771821"
     }
    },
    "ExecuteTime": {
     "end_time": "2024-01-12T09:48:48.143238600Z",
     "start_time": "2024-01-12T09:48:48.126239Z"
    }
   },
   "outputs": [
    {
     "name": "stdout",
     "output_type": "stream",
     "text": [
      "Number of training documents used:\t6009\n",
      "Number of testing documents used:\t229\n"
     ]
    }
   ],
   "source": [
    "num_train_docs = 287113 + 13368\n",
    "num_test_docs = 11490\n",
    "\n",
    "num_neg_ex = 1\n",
    "\n",
    "docs_per = 0.01\n",
    "\n",
    "num_train_docs = int(2 * num_neg_ex * num_train_docs * docs_per)\n",
    "num_test_docs = int(2 * num_neg_ex * num_test_docs * docs_per)\n",
    "\n",
    "print(f\"Number of training documents used:\\t{num_train_docs}\")\n",
    "print(f\"Number of testing documents used:\\t{num_test_docs}\")\n",
    "\n",
    "data_path = 'data/cnn_dailymail'"
   ],
   "id": "7e74d91e8d9baa1c"
  },
  {
   "cell_type": "markdown",
   "metadata": {
    "collapsed": false,
    "id": "126ea5520922f15f"
   },
   "source": [
    "## Model Hyperparameters"
   ],
   "id": "126ea5520922f15f"
  },
  {
   "cell_type": "code",
   "execution_count": 3,
   "metadata": {
    "id": "3c6c2641c1c133ee",
    "executionInfo": {
     "status": "ok",
     "timestamp": 1704635296713,
     "user_tz": -120,
     "elapsed": 4,
     "user": {
      "displayName": "Vasilis Andritsoudis",
      "userId": "01327387119465771821"
     }
    },
    "ExecuteTime": {
     "end_time": "2024-01-12T09:06:19.227640700Z",
     "start_time": "2024-01-12T09:06:19.190641100Z"
    }
   },
   "outputs": [],
   "source": [
    "num_of_epochs = 5\n",
    "learning_rate = 1e-5\n",
    "batch_size = 16\n",
    "hidden_layers = 8"
   ],
   "id": "3c6c2641c1c133ee"
  },
  {
   "cell_type": "markdown",
   "metadata": {
    "collapsed": false,
    "id": "625d47f0772920e"
   },
   "source": [
    "## Utility functions"
   ],
   "id": "625d47f0772920e"
  },
  {
   "cell_type": "markdown",
   "metadata": {
    "collapsed": false,
    "id": "64ec637cb99b55b9"
   },
   "source": [
    "## Loading Dataset\n",
    "Because of the large size of the Dataset, only the document indices will be used for splitting into train/validation sets. The documents will be loaded when the tokenization process takes place."
   ],
   "id": "64ec637cb99b55b9"
  },
  {
   "cell_type": "code",
   "execution_count": 4,
   "metadata": {
    "id": "cdabb857f19bc585",
    "executionInfo": {
     "status": "ok",
     "timestamp": 1704635296713,
     "user_tz": -120,
     "elapsed": 3,
     "user": {
      "displayName": "Vasilis Andritsoudis",
      "userId": "01327387119465771821"
     }
    },
    "ExecuteTime": {
     "end_time": "2024-01-12T09:06:44.151083Z",
     "start_time": "2024-01-12T09:06:19.208641800Z"
    }
   },
   "outputs": [],
   "source": [
    "train_df = pd.read_csv(f\"{data_path}/train.csv\")\n",
    "train_docs, val_docs, train_y, val_y = train_test_split(train_df['input'].to_list()[:num_train_docs], train_df['label'].to_list()[:num_train_docs], test_size=0.15, random_state=42)"
   ],
   "id": "cdabb857f19bc585"
  },
  {
   "cell_type": "markdown",
   "metadata": {
    "collapsed": false,
    "id": "a9da6597fe4e09e7"
   },
   "source": [
    "### Tokenization\n",
    "Each document is loaded from the disk and then run through the tokenizer."
   ],
   "id": "a9da6597fe4e09e7"
  },
  {
   "cell_type": "code",
   "execution_count": 5,
   "metadata": {
    "id": "9381b8bd0e982aaf",
    "executionInfo": {
     "status": "ok",
     "timestamp": 1704635311241,
     "user_tz": -120,
     "elapsed": 14531,
     "user": {
      "displayName": "Vasilis Andritsoudis",
      "userId": "01327387119465771821"
     }
    },
    "colab": {
     "base_uri": "https://localhost:8080/",
     "height": 145,
     "referenced_widgets": [
      "1ab80a78a2244d3c867e05e2254a0b10",
      "6887e14d1e3b4077835f185f1d8091aa",
      "a8d4dfb09afb4a24852db3c7c5c157cc",
      "7a71aef145944ba3885e5222ff4847a3",
      "18939df232b940cc87bc8587682cdd7a",
      "f793be589324425480f7dd7aa64fe8c9",
      "35dccd87efe9413a922f65e06a50fff2",
      "5a8c1cca11c140aa9bc82fd45d12ac10",
      "70768ac4c53b4b0aa408b74a405887b6",
      "2ca378e683db4788bad00c607b945c76",
      "361367b1eb4a49398127b50a6823f820",
      "a078ac910d2c48ca9ce06d9ef9b86c9f",
      "1a2739543f2545ee910cb4a16be1844e",
      "3b6ae81cbf344fda9632b748fec2998d",
      "6bc880effce94baf889847f3b2d2c9f3",
      "9d2e759c1768494d80acc6f311a7617a",
      "e322923c72bc4c46903f12842b48894c",
      "3a87c7ada08f45cf9ad2ec6a49b8abac",
      "e1829f0ce48441049c3ec4f5bfd9c11c",
      "13587aac556e4efda846b719048b573b",
      "8f9076daa38b4cbfbc7ee1c333432d9d",
      "5831fe30f7004039a4b0bd9bf0821228",
      "4afb939b3e6541d389ca78d4c9e105fd",
      "736b20c7960e4747a5d9192200ee0f68",
      "b81be42b925d4e7fab4332a3b3bb26df",
      "3f55c6ed34454f2aa387f85ac49bbe57",
      "539c3f2dea024b4283a3271aec51d0b5",
      "a3c60eea46f14c62b805c7467ff84595",
      "52e78b9163df4818a0bfc56414a88c3e",
      "aa4f24122c8845e6a580493b2c927859",
      "66d5ee9481394b5aa637b621cfae539d",
      "c3ba07e21e5047aea49bc825092fa99e",
      "9c687c4dd1824c0ba279c64c8d3565b4",
      "3b80038e1a12430fad8413b80bb9918d",
      "249021a7d0ba468bb2729411a7c98d4e",
      "cedca911ec2e40dd8385f4555a56993a",
      "16617d5cd9024d209744fd7cb846b5d1",
      "68a2c1b7bfe44395ae224aea6d5b729e",
      "cba8624d1d6d49adbb86cf9cf56ab5bb",
      "11b2021a9f484d419e4ccfc6efd85352",
      "6a19e237819642a89b09949daf153128",
      "edd575a7fc4449aa853b3315617b55d8",
      "ee6eae539256473281ad78d51e8e2a8d",
      "89b9f0e64192419aa4f6e7f9d8ee4627"
     ]
    },
    "outputId": "9302ca7d-365f-40c9-e1dc-2419a49ff7ec",
    "ExecuteTime": {
     "end_time": "2024-01-12T09:06:45.041083800Z",
     "start_time": "2024-01-12T09:06:44.151083Z"
    }
   },
   "outputs": [],
   "source": [
    "pretrained_model = \"bert-base-uncased\"\n",
    "tokenizer = BertTokenizerFast.from_pretrained(pretrained_model)\n",
    "\n",
    "# Tokenize train data\n",
    "train_X = tokenizer(train_docs, max_length=512, truncation='longest_first', return_tensors=\"pt\", padding=\"max_length\")\n",
    "val_X = tokenizer(val_docs, max_length=512, truncation='longest_first', return_tensors=\"pt\", padding=\"max_length\")"
   ],
   "id": "9381b8bd0e982aaf"
  },
  {
   "cell_type": "markdown",
   "metadata": {
    "collapsed": false,
    "id": "82b6e2e57533124f"
   },
   "source": [
    "### Custom PyTorch Dataset\n",
    "Create a custom PyTorch Dataset that will contain the tokenized text encodings. Then use DataLoaders to prepare the Dataset for training and testing."
   ],
   "id": "82b6e2e57533124f"
  },
  {
   "cell_type": "code",
   "execution_count": 6,
   "metadata": {
    "id": "4d403fa44b58dd41",
    "executionInfo": {
     "status": "ok",
     "timestamp": 1704635311242,
     "user_tz": -120,
     "elapsed": 4,
     "user": {
      "displayName": "Vasilis Andritsoudis",
      "userId": "01327387119465771821"
     }
    },
    "ExecuteTime": {
     "end_time": "2024-01-12T09:06:45.058083100Z",
     "start_time": "2024-01-12T09:06:45.045082500Z"
    }
   },
   "outputs": [],
   "source": [
    "class SumPubMedDataset(torch.utils.data.Dataset):\n",
    "    def __init__(self, encodings, labels):\n",
    "        self.encodings = encodings\n",
    "        self.labels = labels\n",
    "\n",
    "    def __getitem__(self, idx):\n",
    "        # an encoding can have keys such as input_ids and attention_mask\n",
    "        # item is a dictionary which has the same keys as the encoding has\n",
    "        # and the values are the idxth value of the corresponding key (in PyTorch's tensor format)\n",
    "        item = {key: torch.tensor(val[idx]) for key, val in self.encodings.items()}\n",
    "        item['labels'] = torch.tensor(self.labels[idx])\n",
    "        return item\n",
    "\n",
    "    def __len__(self):\n",
    "        return len(self.labels)"
   ],
   "id": "4d403fa44b58dd41"
  },
  {
   "cell_type": "code",
   "execution_count": 7,
   "metadata": {
    "id": "ac43878b3886d0f2",
    "executionInfo": {
     "status": "ok",
     "timestamp": 1704635311242,
     "user_tz": -120,
     "elapsed": 3,
     "user": {
      "displayName": "Vasilis Andritsoudis",
      "userId": "01327387119465771821"
     }
    },
    "ExecuteTime": {
     "end_time": "2024-01-12T09:06:45.081082900Z",
     "start_time": "2024-01-12T09:06:45.060083400Z"
    }
   },
   "outputs": [],
   "source": [
    "train_dataset = SumPubMedDataset(train_X, train_y)\n",
    "val_dataset = SumPubMedDataset(val_X, val_y)\n",
    "train_loader = DataLoader(train_dataset, batch_size=batch_size, shuffle=True)\n",
    "val_loader = DataLoader(val_dataset, batch_size=batch_size, shuffle=True)"
   ],
   "id": "ac43878b3886d0f2"
  },
  {
   "cell_type": "markdown",
   "metadata": {
    "collapsed": false,
    "id": "c4eaa236f62a8836"
   },
   "source": [
    "## Model Setup"
   ],
   "id": "c4eaa236f62a8836"
  },
  {
   "cell_type": "code",
   "execution_count": 8,
   "metadata": {
    "id": "6b64e2de886ca52c",
    "executionInfo": {
     "status": "ok",
     "timestamp": 1704635311242,
     "user_tz": -120,
     "elapsed": 3,
     "user": {
      "displayName": "Vasilis Andritsoudis",
      "userId": "01327387119465771821"
     }
    },
    "ExecuteTime": {
     "end_time": "2024-01-12T09:06:45.090083100Z",
     "start_time": "2024-01-12T09:06:45.079084700Z"
    }
   },
   "outputs": [],
   "source": [
    "device = torch.device('cuda') if torch.cuda.is_available() else torch.device('cpu')\n",
    "\n",
    "in_features = 768 # it's 768 because that's the size of the output provided by the underlying BERT model\n",
    "\n",
    "class TexSumClassifier(torch.nn.Module):\n",
    "    def __init__(self, linear_size):\n",
    "        super(TexSumClassifier, self).__init__()\n",
    "        self.bert = BertModel.from_pretrained(pretrained_model)\n",
    "        self.dropout1 = torch.nn.Dropout(0.9)\n",
    "        self.linear1 = torch.nn.Linear(in_features=in_features, out_features=linear_size)\n",
    "        self.batch_norm1 = torch.nn.BatchNorm1d(num_features=linear_size)\n",
    "        self.dropout2 = torch.nn.Dropout(p=0.9)\n",
    "        self.linear2 = torch.nn.Linear(in_features=linear_size, out_features=1)\n",
    "        self.batch_norm2 = torch.nn.BatchNorm1d(num_features=1)\n",
    "        self.sigmoid = torch.nn.Sigmoid()\n",
    "\n",
    "    def forward(self, tokens, attention_mask):\n",
    "        bert_output = self.bert(input_ids=tokens, attention_mask=attention_mask)\n",
    "        x = self.dropout1(bert_output[1])\n",
    "        x = self.linear1(x)\n",
    "        x = self.batch_norm1(x)\n",
    "        x = self.dropout2(x)\n",
    "        x = self.linear2(x)\n",
    "        x = self.batch_norm2(x)\n",
    "        return self.sigmoid(x)\n",
    "\n",
    "    def freeze_bert(self):\n",
    "        \"\"\"\n",
    "        Freezes the parameters of BERT so when BertWithCustomNNClassifier is trained\n",
    "        only the wieghts of the custom classifier are modified.\n",
    "        \"\"\"\n",
    "        for param in self.bert.named_parameters():\n",
    "            param[1].requires_grad=False\n",
    "\n",
    "    def unfreeze_bert(self):\n",
    "        \"\"\"\n",
    "        Unfreezes the parameters of BERT so when BertWithCustomNNClassifier is trained\n",
    "        both the weights of the custom classifier and of the underlying BERT are modified.\n",
    "        \"\"\"\n",
    "        for param in self.bert.named_parameters():\n",
    "            param[1].requires_grad=True"
   ],
   "id": "6b64e2de886ca52c"
  },
  {
   "cell_type": "markdown",
   "metadata": {
    "collapsed": false,
    "id": "56e52999e3215212"
   },
   "source": [
    "### Metrics"
   ],
   "id": "56e52999e3215212"
  },
  {
   "cell_type": "code",
   "execution_count": 9,
   "metadata": {
    "id": "a7b20faec73a8760",
    "executionInfo": {
     "status": "ok",
     "timestamp": 1704635311242,
     "user_tz": -120,
     "elapsed": 3,
     "user": {
      "displayName": "Vasilis Andritsoudis",
      "userId": "01327387119465771821"
     }
    },
    "ExecuteTime": {
     "end_time": "2024-01-12T09:06:45.120083100Z",
     "start_time": "2024-01-12T09:06:45.092083300Z"
    }
   },
   "outputs": [],
   "source": [
    "def eval_prediction(y_batch_actual, y_batch_predicted):\n",
    "    \"\"\"Return batches of accuracy and f1 scores.\"\"\"\n",
    "    y_batch_actual_np = y_batch_actual.cpu().detach().numpy()\n",
    "    y_batch_predicted_np = np.round(y_batch_predicted.cpu().detach().numpy())\n",
    "\n",
    "    acc = accuracy_score(y_true=y_batch_actual_np, y_pred=y_batch_predicted_np)\n",
    "    f1 = f1_score(y_true=y_batch_actual_np, y_pred=y_batch_predicted_np, average='weighted')\n",
    "\n",
    "    return acc, f1"
   ],
   "id": "a7b20faec73a8760"
  },
  {
   "cell_type": "markdown",
   "metadata": {
    "collapsed": false,
    "id": "2bb20a30407ed0cf"
   },
   "source": [
    "### Model Initialization"
   ],
   "id": "2bb20a30407ed0cf"
  },
  {
   "cell_type": "code",
   "execution_count": 10,
   "metadata": {
    "id": "46cc73b4c7cee294",
    "executionInfo": {
     "status": "ok",
     "timestamp": 1704635320829,
     "user_tz": -120,
     "elapsed": 9589,
     "user": {
      "displayName": "Vasilis Andritsoudis",
      "userId": "01327387119465771821"
     }
    },
    "colab": {
     "base_uri": "https://localhost:8080/",
     "height": 49,
     "referenced_widgets": [
      "7b6b72087edd4954b7e396a09235b42e",
      "6de41f8411a84fbf97aa51395be13aa6",
      "af61afdd142344b7b926f2d2c425ab88",
      "d7f771f72b884be6a72e9938183ef81c",
      "9c98e046a56c40058bc71d34f408090c",
      "736a0d47a9824d798865580bab82b642",
      "3da7a8aa34eb499e8f591991c491ff83",
      "89908a3a7ddb4d8b8e857e39251dfa6c",
      "a726a96f21cb4fcd9464a20cf045ec2e",
      "955053b8f64246dbbf9ee0619fa6107a",
      "75db2074a8044c108510f7f56d6f55b9"
     ]
    },
    "outputId": "4f81ea2d-444f-481c-c0ac-e043a628e4a4",
    "ExecuteTime": {
     "end_time": "2024-01-12T09:06:46.677083Z",
     "start_time": "2024-01-12T09:06:45.108084100Z"
    }
   },
   "outputs": [],
   "source": [
    "model = TexSumClassifier(linear_size=hidden_layers)\n",
    "model.to(device)\n",
    "\n",
    "# optimizer = torch.optim.Adam(model.parameters(), lr=learning_rate)\n",
    "optimizer = AdamW(model.parameters(), lr=learning_rate)\n",
    "loss_fn = torch.nn.BCELoss()"
   ],
   "id": "46cc73b4c7cee294"
  },
  {
   "cell_type": "markdown",
   "metadata": {
    "collapsed": false,
    "id": "b44a5a4cac32c29d"
   },
   "source": [
    "### Training step"
   ],
   "id": "b44a5a4cac32c29d"
  },
  {
   "cell_type": "code",
   "execution_count": 11,
   "metadata": {
    "id": "78ffde4cee8adaae",
    "executionInfo": {
     "status": "ok",
     "timestamp": 1704635320829,
     "user_tz": -120,
     "elapsed": 4,
     "user": {
      "displayName": "Vasilis Andritsoudis",
      "userId": "01327387119465771821"
     }
    },
    "ExecuteTime": {
     "end_time": "2024-01-12T09:06:46.693084300Z",
     "start_time": "2024-01-12T09:06:46.679083Z"
    }
   },
   "outputs": [],
   "source": [
    "def training_step(dataloader, model, optimizer, loss_fn, if_freeze_bert):\n",
    "    \"\"\"Method to train the model\"\"\"\n",
    "\n",
    "    model.train()\n",
    "    model.freeze_bert() if if_freeze_bert else model.unfreeze_bert()\n",
    "\n",
    "    epoch_loss = 0\n",
    "\n",
    "    for i, batch in enumerate(tqdm(dataloader)):\n",
    "        input_ids = batch['input_ids'].to(device)\n",
    "        attention_mask = batch['attention_mask'].to(device)\n",
    "        labels = batch['labels'].to(device)\n",
    "\n",
    "        outputs = torch.flatten(model(tokens=input_ids, attention_mask=attention_mask))\n",
    "\n",
    "        optimizer.zero_grad()\n",
    "        loss = loss_fn(outputs, labels.float())\n",
    "        epoch_loss += loss.item()\n",
    "        loss.backward()\n",
    "        optimizer.step()\n",
    "\n",
    "    return epoch_loss/i"
   ],
   "id": "78ffde4cee8adaae"
  },
  {
   "cell_type": "markdown",
   "metadata": {
    "collapsed": false,
    "id": "a72b9a35f7f93521"
   },
   "source": [
    "### Validation step"
   ],
   "id": "a72b9a35f7f93521"
  },
  {
   "cell_type": "code",
   "execution_count": 12,
   "metadata": {
    "id": "ba23e02c8f5192ec",
    "executionInfo": {
     "status": "ok",
     "timestamp": 1704635320829,
     "user_tz": -120,
     "elapsed": 3,
     "user": {
      "displayName": "Vasilis Andritsoudis",
      "userId": "01327387119465771821"
     }
    },
    "ExecuteTime": {
     "end_time": "2024-01-12T09:06:46.726083700Z",
     "start_time": "2024-01-12T09:06:46.696083100Z"
    }
   },
   "outputs": [],
   "source": [
    "def validation_step(dataloader, model, loss_fn):\n",
    "    \"\"\"Method to test the model's accuracy and loss on the validation set\"\"\"\n",
    "\n",
    "    model.eval()\n",
    "    model.freeze_bert()\n",
    "\n",
    "    size = len(dataloader)\n",
    "    f1, acc = 0, 0\n",
    "\n",
    "    with torch.no_grad():\n",
    "        for batch in tqdm(dataloader):\n",
    "            X = batch['input_ids'].to(device)\n",
    "            attention_mask = batch['attention_mask'].to(device)\n",
    "            y = batch['labels'].to(device)\n",
    "\n",
    "            pred = model(tokens=X, attention_mask=attention_mask)\n",
    "\n",
    "            acc_batch, f1_batch = eval_prediction(y.float(), pred)\n",
    "            acc += acc_batch\n",
    "            f1 += f1_batch\n",
    "\n",
    "        acc = acc/size\n",
    "        f1 = f1/size\n",
    "\n",
    "    return acc, f1"
   ],
   "id": "ba23e02c8f5192ec"
  },
  {
   "cell_type": "markdown",
   "metadata": {
    "collapsed": false,
    "id": "cd5690c1713bcaf1"
   },
   "source": [
    "## Training the Model"
   ],
   "id": "cd5690c1713bcaf1"
  },
  {
   "cell_type": "code",
   "execution_count": null,
   "metadata": {
    "colab": {
     "base_uri": "https://localhost:8080/",
     "height": 541,
     "referenced_widgets": [
      "3b7dab9bbfec42acbba6744257628783",
      "561a55cc8af1425b9610c85d88b9083a",
      "7bbfd315e5b9494d8b25626e350c02ed",
      "4a7c4051a75949908256d450ae734675",
      "fb62d597f06a4c8388e395d7193bbd98",
      "cd1d8c5730074120ac31fca370ff523c",
      "396c674595ff4a81beebe550f01d8f3c",
      "873fafd04c2441b9b120399dfb2ac443",
      "4aa42ea5097449d6a73f05e3ee5a6c71",
      "c2d2210e2c1b4ff3afedd004cf69de48",
      "87c0c0fb395f4d7e8ccfedd0e5c9d206",
      "d6b1dc5eea5447d5a8d6cdf8a647751d",
      "c6fa441d17aa441f925d7cb43bad15b7",
      "9953d2470dbc434a95ff5e30538f7137",
      "706f824720d244ccada520a2ca91d85d",
      "174f5ad8a81540df9fbe8a2fb0e67df3",
      "8be6a6b94efe490f88b3b1cc9faec36b",
      "6fc6c8b7019240708d94700c864d8993",
      "1c46807f2aed4d189044470716a62269",
      "7d997f9cbd0d43f7a164492977640521",
      "57ef498ef73a4288a3739ac0a2578a9b",
      "59cc3d7826d14456a026375d8feb9209"
     ]
    },
    "id": "f418bf371314eac7",
    "executionInfo": {
     "status": "error",
     "timestamp": 1704635322739,
     "user_tz": -120,
     "elapsed": 1912,
     "user": {
      "displayName": "Vasilis Andritsoudis",
      "userId": "01327387119465771821"
     }
    },
    "outputId": "ced5b1af-d6f4-40f2-8282-6fc736820c1e",
    "ExecuteTime": {
     "start_time": "2024-01-12T09:06:46.711084100Z"
    }
   },
   "outputs": [
    {
     "data": {
      "text/plain": "  0%|          | 0/5 [00:00<?, ?it/s]",
      "application/vnd.jupyter.widget-view+json": {
       "version_major": 2,
       "version_minor": 0,
       "model_id": "7b64a6ddc41b45b2a2d5a1c1c0668ff9"
      }
     },
     "metadata": {},
     "output_type": "display_data"
    },
    {
     "name": "stdout",
     "output_type": "stream",
     "text": [
      "Epoch: #1\n",
      "Bert is not frozen\n"
     ]
    },
    {
     "data": {
      "text/plain": "  0%|          | 0/64 [00:00<?, ?it/s]",
      "application/vnd.jupyter.widget-view+json": {
       "version_major": 2,
       "version_minor": 0,
       "model_id": "71df1d238d33421cb3079342b04e6a95"
      }
     },
     "metadata": {},
     "output_type": "display_data"
    },
    {
     "data": {
      "text/plain": "  0%|          | 0/64 [00:00<?, ?it/s]",
      "application/vnd.jupyter.widget-view+json": {
       "version_major": 2,
       "version_minor": 0,
       "model_id": "a83eab504f814d4caf1d240f9bd4ddaf"
      }
     },
     "metadata": {},
     "output_type": "display_data"
    },
    {
     "data": {
      "text/plain": "  0%|          | 0/12 [00:00<?, ?it/s]",
      "application/vnd.jupyter.widget-view+json": {
       "version_major": 2,
       "version_minor": 0,
       "model_id": "029de9cc2a4a47eea490cd5ca3578a1f"
      }
     },
     "metadata": {},
     "output_type": "display_data"
    },
    {
     "name": "stdout",
     "output_type": "stream",
     "text": [
      "Training results: \n",
      "Acc: 0.496, f1: 0.338, loss: 0.797\n",
      "Validation results: \n",
      "Acc: 0.529, f1: 0.374\n",
      "Epoch: #2\n",
      "Bert is not frozen\n"
     ]
    },
    {
     "data": {
      "text/plain": "  0%|          | 0/64 [00:00<?, ?it/s]",
      "application/vnd.jupyter.widget-view+json": {
       "version_major": 2,
       "version_minor": 0,
       "model_id": "473f7a48855141788ce9e7ff09799121"
      }
     },
     "metadata": {},
     "output_type": "display_data"
    },
    {
     "data": {
      "text/plain": "  0%|          | 0/64 [00:00<?, ?it/s]",
      "application/vnd.jupyter.widget-view+json": {
       "version_major": 2,
       "version_minor": 0,
       "model_id": "88b0da1a608746bca1c1a91c4c6a2ae0"
      }
     },
     "metadata": {},
     "output_type": "display_data"
    },
    {
     "data": {
      "text/plain": "  0%|          | 0/12 [00:00<?, ?it/s]",
      "application/vnd.jupyter.widget-view+json": {
       "version_major": 2,
       "version_minor": 0,
       "model_id": "413b29b4cb874545ac0908b1ed7ae5c5"
      }
     },
     "metadata": {},
     "output_type": "display_data"
    },
    {
     "name": "stdout",
     "output_type": "stream",
     "text": [
      "Training results: \n",
      "Acc: 0.504, f1: 0.348, loss: 0.803\n",
      "Validation results: \n",
      "Acc: 0.471, f1: 0.303\n",
      "Epoch: #3\n",
      "Bert is not frozen\n"
     ]
    },
    {
     "data": {
      "text/plain": "  0%|          | 0/64 [00:00<?, ?it/s]",
      "application/vnd.jupyter.widget-view+json": {
       "version_major": 2,
       "version_minor": 0,
       "model_id": "c4f474388af343049148450e03241322"
      }
     },
     "metadata": {},
     "output_type": "display_data"
    }
   ],
   "source": [
    "tqdm.pandas()\n",
    "\n",
    "best_acc, best_f1 = 0, 0\n",
    "path = \"models/cnn_dailymail/best_model.pt\"\n",
    "os.makedirs(os.path.dirname(path), exist_ok=True)\n",
    "if_freeze_bert = False\n",
    "\n",
    "for i in tqdm(range(num_of_epochs)):\n",
    "    print(\"Epoch: #{}\".format(i+1))\n",
    "\n",
    "    if i < 5:\n",
    "        if_freeze_bert = False\n",
    "        print(\"Bert is not frozen\")\n",
    "    else:\n",
    "        if_freeze_bert = True\n",
    "        print(\"Bert is frozen\")\n",
    "\n",
    "    epoch_loss = training_step(train_loader, model,optimizer, loss_fn, if_freeze_bert)\n",
    "    train_acc, train_f1 = validation_step(train_loader, model, loss_fn)\n",
    "    val_acc, val_f1 = validation_step(val_loader, model, loss_fn)\n",
    "\n",
    "    print(\"Training results: \")\n",
    "    print(\"Acc: {:.3f}, f1: {:.3f}, loss: {:.3f}\".format(train_acc, train_f1, epoch_loss))\n",
    "\n",
    "    print(\"Validation results: \")\n",
    "    print(\"Acc: {:.3f}, f1: {:.3f}\".format(val_acc, val_f1))\n",
    "\n",
    "    if val_acc > best_acc:\n",
    "        best_acc = val_acc\n",
    "        torch.save(model, path)"
   ],
   "id": "f418bf371314eac7"
  },
  {
   "cell_type": "markdown",
   "metadata": {
    "collapsed": false,
    "id": "6fd24d35a97d186e"
   },
   "source": [
    "## Testing the Model"
   ],
   "id": "6fd24d35a97d186e"
  },
  {
   "cell_type": "markdown",
   "metadata": {
    "collapsed": false,
    "id": "d244eebea6ec582e"
   },
   "source": [
    "### Load Test Dataset"
   ],
   "id": "d244eebea6ec582e"
  },
  {
   "cell_type": "code",
   "execution_count": null,
   "metadata": {
    "id": "56f14111ef6b133d",
    "executionInfo": {
     "status": "aborted",
     "timestamp": 1704635322740,
     "user_tz": -120,
     "elapsed": 3,
     "user": {
      "displayName": "Vasilis Andritsoudis",
      "userId": "01327387119465771821"
     }
    }
   },
   "outputs": [],
   "source": [
    "test_indices = [i for i in range(1, num_test_docs+1)]\n",
    "test_y = read_labels(f\"{data_path}/test/labels.txt\")[:num_test_docs]\n",
    "\n",
    "# Tokenize train data\n",
    "documents = []\n",
    "for i in test_indices:\n",
    "    text = read_doc(f\"{data_path}/test/data_{i}.txt\")\n",
    "    documents.append(text)\n",
    "test_X = tokenizer(documents, max_length=512, truncation='longest_first', return_tensors=\"pt\")"
   ],
   "id": "56f14111ef6b133d"
  },
  {
   "cell_type": "markdown",
   "metadata": {
    "collapsed": false,
    "id": "e3147eea1fe4aa56"
   },
   "source": [
    "### Evaluate on Test Predictions"
   ],
   "id": "e3147eea1fe4aa56"
  },
  {
   "cell_type": "code",
   "execution_count": null,
   "metadata": {
    "id": "98b77b48f6bde67b",
    "executionInfo": {
     "status": "aborted",
     "timestamp": 1704635322740,
     "user_tz": -120,
     "elapsed": 3,
     "user": {
      "displayName": "Vasilis Andritsoudis",
      "userId": "01327387119465771821"
     }
    }
   },
   "outputs": [],
   "source": [
    "test_X.to(device)\n",
    "model = torch.load(path)\n",
    "model.eval()\n",
    "with torch.no_grad():\n",
    "    predictions = model(tokens=test_X['input_ids'], attention_mask=test_X['attention_mask'])\n",
    "    acc_test, f1_test = eval_prediction(test_y, predictions)\n",
    "\n",
    "print(\"Testing results: \")\n",
    "print(\"Acc: {:.3f}, f1: {:.3f}\".format(acc_test, f1_test))"
   ],
   "id": "98b77b48f6bde67b"
  }
 ],
 "metadata": {
  "accelerator": "GPU",
  "colab": {
   "provenance": []
  },
  "kernelspec": {
   "name": "python3",
   "language": "python",
   "display_name": "Python 3 (ipykernel)"
  },
  "language_info": {
   "codemirror_mode": {
    "name": "ipython",
    "version": 2
   },
   "file_extension": ".py",
   "mimetype": "text/x-python",
   "name": "python",
   "nbconvert_exporter": "python",
   "pygments_lexer": "ipython2",
   "version": "2.7.6"
  },
  "widgets": {
   "application/vnd.jupyter.widget-state+json": {
    "1ab80a78a2244d3c867e05e2254a0b10": {
     "model_module": "@jupyter-widgets/controls",
     "model_name": "HBoxModel",
     "model_module_version": "1.5.0",
     "state": {
      "_dom_classes": [],
      "_model_module": "@jupyter-widgets/controls",
      "_model_module_version": "1.5.0",
      "_model_name": "HBoxModel",
      "_view_count": null,
      "_view_module": "@jupyter-widgets/controls",
      "_view_module_version": "1.5.0",
      "_view_name": "HBoxView",
      "box_style": "",
      "children": [
       "IPY_MODEL_6887e14d1e3b4077835f185f1d8091aa",
       "IPY_MODEL_a8d4dfb09afb4a24852db3c7c5c157cc",
       "IPY_MODEL_7a71aef145944ba3885e5222ff4847a3"
      ],
      "layout": "IPY_MODEL_18939df232b940cc87bc8587682cdd7a"
     }
    },
    "6887e14d1e3b4077835f185f1d8091aa": {
     "model_module": "@jupyter-widgets/controls",
     "model_name": "HTMLModel",
     "model_module_version": "1.5.0",
     "state": {
      "_dom_classes": [],
      "_model_module": "@jupyter-widgets/controls",
      "_model_module_version": "1.5.0",
      "_model_name": "HTMLModel",
      "_view_count": null,
      "_view_module": "@jupyter-widgets/controls",
      "_view_module_version": "1.5.0",
      "_view_name": "HTMLView",
      "description": "",
      "description_tooltip": null,
      "layout": "IPY_MODEL_f793be589324425480f7dd7aa64fe8c9",
      "placeholder": "​",
      "style": "IPY_MODEL_35dccd87efe9413a922f65e06a50fff2",
      "value": "tokenizer_config.json: 100%"
     }
    },
    "a8d4dfb09afb4a24852db3c7c5c157cc": {
     "model_module": "@jupyter-widgets/controls",
     "model_name": "FloatProgressModel",
     "model_module_version": "1.5.0",
     "state": {
      "_dom_classes": [],
      "_model_module": "@jupyter-widgets/controls",
      "_model_module_version": "1.5.0",
      "_model_name": "FloatProgressModel",
      "_view_count": null,
      "_view_module": "@jupyter-widgets/controls",
      "_view_module_version": "1.5.0",
      "_view_name": "ProgressView",
      "bar_style": "success",
      "description": "",
      "description_tooltip": null,
      "layout": "IPY_MODEL_5a8c1cca11c140aa9bc82fd45d12ac10",
      "max": 28,
      "min": 0,
      "orientation": "horizontal",
      "style": "IPY_MODEL_70768ac4c53b4b0aa408b74a405887b6",
      "value": 28
     }
    },
    "7a71aef145944ba3885e5222ff4847a3": {
     "model_module": "@jupyter-widgets/controls",
     "model_name": "HTMLModel",
     "model_module_version": "1.5.0",
     "state": {
      "_dom_classes": [],
      "_model_module": "@jupyter-widgets/controls",
      "_model_module_version": "1.5.0",
      "_model_name": "HTMLModel",
      "_view_count": null,
      "_view_module": "@jupyter-widgets/controls",
      "_view_module_version": "1.5.0",
      "_view_name": "HTMLView",
      "description": "",
      "description_tooltip": null,
      "layout": "IPY_MODEL_2ca378e683db4788bad00c607b945c76",
      "placeholder": "​",
      "style": "IPY_MODEL_361367b1eb4a49398127b50a6823f820",
      "value": " 28.0/28.0 [00:00&lt;00:00, 1.87kB/s]"
     }
    },
    "18939df232b940cc87bc8587682cdd7a": {
     "model_module": "@jupyter-widgets/base",
     "model_name": "LayoutModel",
     "model_module_version": "1.2.0",
     "state": {
      "_model_module": "@jupyter-widgets/base",
      "_model_module_version": "1.2.0",
      "_model_name": "LayoutModel",
      "_view_count": null,
      "_view_module": "@jupyter-widgets/base",
      "_view_module_version": "1.2.0",
      "_view_name": "LayoutView",
      "align_content": null,
      "align_items": null,
      "align_self": null,
      "border": null,
      "bottom": null,
      "display": null,
      "flex": null,
      "flex_flow": null,
      "grid_area": null,
      "grid_auto_columns": null,
      "grid_auto_flow": null,
      "grid_auto_rows": null,
      "grid_column": null,
      "grid_gap": null,
      "grid_row": null,
      "grid_template_areas": null,
      "grid_template_columns": null,
      "grid_template_rows": null,
      "height": null,
      "justify_content": null,
      "justify_items": null,
      "left": null,
      "margin": null,
      "max_height": null,
      "max_width": null,
      "min_height": null,
      "min_width": null,
      "object_fit": null,
      "object_position": null,
      "order": null,
      "overflow": null,
      "overflow_x": null,
      "overflow_y": null,
      "padding": null,
      "right": null,
      "top": null,
      "visibility": null,
      "width": null
     }
    },
    "f793be589324425480f7dd7aa64fe8c9": {
     "model_module": "@jupyter-widgets/base",
     "model_name": "LayoutModel",
     "model_module_version": "1.2.0",
     "state": {
      "_model_module": "@jupyter-widgets/base",
      "_model_module_version": "1.2.0",
      "_model_name": "LayoutModel",
      "_view_count": null,
      "_view_module": "@jupyter-widgets/base",
      "_view_module_version": "1.2.0",
      "_view_name": "LayoutView",
      "align_content": null,
      "align_items": null,
      "align_self": null,
      "border": null,
      "bottom": null,
      "display": null,
      "flex": null,
      "flex_flow": null,
      "grid_area": null,
      "grid_auto_columns": null,
      "grid_auto_flow": null,
      "grid_auto_rows": null,
      "grid_column": null,
      "grid_gap": null,
      "grid_row": null,
      "grid_template_areas": null,
      "grid_template_columns": null,
      "grid_template_rows": null,
      "height": null,
      "justify_content": null,
      "justify_items": null,
      "left": null,
      "margin": null,
      "max_height": null,
      "max_width": null,
      "min_height": null,
      "min_width": null,
      "object_fit": null,
      "object_position": null,
      "order": null,
      "overflow": null,
      "overflow_x": null,
      "overflow_y": null,
      "padding": null,
      "right": null,
      "top": null,
      "visibility": null,
      "width": null
     }
    },
    "35dccd87efe9413a922f65e06a50fff2": {
     "model_module": "@jupyter-widgets/controls",
     "model_name": "DescriptionStyleModel",
     "model_module_version": "1.5.0",
     "state": {
      "_model_module": "@jupyter-widgets/controls",
      "_model_module_version": "1.5.0",
      "_model_name": "DescriptionStyleModel",
      "_view_count": null,
      "_view_module": "@jupyter-widgets/base",
      "_view_module_version": "1.2.0",
      "_view_name": "StyleView",
      "description_width": ""
     }
    },
    "5a8c1cca11c140aa9bc82fd45d12ac10": {
     "model_module": "@jupyter-widgets/base",
     "model_name": "LayoutModel",
     "model_module_version": "1.2.0",
     "state": {
      "_model_module": "@jupyter-widgets/base",
      "_model_module_version": "1.2.0",
      "_model_name": "LayoutModel",
      "_view_count": null,
      "_view_module": "@jupyter-widgets/base",
      "_view_module_version": "1.2.0",
      "_view_name": "LayoutView",
      "align_content": null,
      "align_items": null,
      "align_self": null,
      "border": null,
      "bottom": null,
      "display": null,
      "flex": null,
      "flex_flow": null,
      "grid_area": null,
      "grid_auto_columns": null,
      "grid_auto_flow": null,
      "grid_auto_rows": null,
      "grid_column": null,
      "grid_gap": null,
      "grid_row": null,
      "grid_template_areas": null,
      "grid_template_columns": null,
      "grid_template_rows": null,
      "height": null,
      "justify_content": null,
      "justify_items": null,
      "left": null,
      "margin": null,
      "max_height": null,
      "max_width": null,
      "min_height": null,
      "min_width": null,
      "object_fit": null,
      "object_position": null,
      "order": null,
      "overflow": null,
      "overflow_x": null,
      "overflow_y": null,
      "padding": null,
      "right": null,
      "top": null,
      "visibility": null,
      "width": null
     }
    },
    "70768ac4c53b4b0aa408b74a405887b6": {
     "model_module": "@jupyter-widgets/controls",
     "model_name": "ProgressStyleModel",
     "model_module_version": "1.5.0",
     "state": {
      "_model_module": "@jupyter-widgets/controls",
      "_model_module_version": "1.5.0",
      "_model_name": "ProgressStyleModel",
      "_view_count": null,
      "_view_module": "@jupyter-widgets/base",
      "_view_module_version": "1.2.0",
      "_view_name": "StyleView",
      "bar_color": null,
      "description_width": ""
     }
    },
    "2ca378e683db4788bad00c607b945c76": {
     "model_module": "@jupyter-widgets/base",
     "model_name": "LayoutModel",
     "model_module_version": "1.2.0",
     "state": {
      "_model_module": "@jupyter-widgets/base",
      "_model_module_version": "1.2.0",
      "_model_name": "LayoutModel",
      "_view_count": null,
      "_view_module": "@jupyter-widgets/base",
      "_view_module_version": "1.2.0",
      "_view_name": "LayoutView",
      "align_content": null,
      "align_items": null,
      "align_self": null,
      "border": null,
      "bottom": null,
      "display": null,
      "flex": null,
      "flex_flow": null,
      "grid_area": null,
      "grid_auto_columns": null,
      "grid_auto_flow": null,
      "grid_auto_rows": null,
      "grid_column": null,
      "grid_gap": null,
      "grid_row": null,
      "grid_template_areas": null,
      "grid_template_columns": null,
      "grid_template_rows": null,
      "height": null,
      "justify_content": null,
      "justify_items": null,
      "left": null,
      "margin": null,
      "max_height": null,
      "max_width": null,
      "min_height": null,
      "min_width": null,
      "object_fit": null,
      "object_position": null,
      "order": null,
      "overflow": null,
      "overflow_x": null,
      "overflow_y": null,
      "padding": null,
      "right": null,
      "top": null,
      "visibility": null,
      "width": null
     }
    },
    "361367b1eb4a49398127b50a6823f820": {
     "model_module": "@jupyter-widgets/controls",
     "model_name": "DescriptionStyleModel",
     "model_module_version": "1.5.0",
     "state": {
      "_model_module": "@jupyter-widgets/controls",
      "_model_module_version": "1.5.0",
      "_model_name": "DescriptionStyleModel",
      "_view_count": null,
      "_view_module": "@jupyter-widgets/base",
      "_view_module_version": "1.2.0",
      "_view_name": "StyleView",
      "description_width": ""
     }
    },
    "a078ac910d2c48ca9ce06d9ef9b86c9f": {
     "model_module": "@jupyter-widgets/controls",
     "model_name": "HBoxModel",
     "model_module_version": "1.5.0",
     "state": {
      "_dom_classes": [],
      "_model_module": "@jupyter-widgets/controls",
      "_model_module_version": "1.5.0",
      "_model_name": "HBoxModel",
      "_view_count": null,
      "_view_module": "@jupyter-widgets/controls",
      "_view_module_version": "1.5.0",
      "_view_name": "HBoxView",
      "box_style": "",
      "children": [
       "IPY_MODEL_1a2739543f2545ee910cb4a16be1844e",
       "IPY_MODEL_3b6ae81cbf344fda9632b748fec2998d",
       "IPY_MODEL_6bc880effce94baf889847f3b2d2c9f3"
      ],
      "layout": "IPY_MODEL_9d2e759c1768494d80acc6f311a7617a"
     }
    },
    "1a2739543f2545ee910cb4a16be1844e": {
     "model_module": "@jupyter-widgets/controls",
     "model_name": "HTMLModel",
     "model_module_version": "1.5.0",
     "state": {
      "_dom_classes": [],
      "_model_module": "@jupyter-widgets/controls",
      "_model_module_version": "1.5.0",
      "_model_name": "HTMLModel",
      "_view_count": null,
      "_view_module": "@jupyter-widgets/controls",
      "_view_module_version": "1.5.0",
      "_view_name": "HTMLView",
      "description": "",
      "description_tooltip": null,
      "layout": "IPY_MODEL_e322923c72bc4c46903f12842b48894c",
      "placeholder": "​",
      "style": "IPY_MODEL_3a87c7ada08f45cf9ad2ec6a49b8abac",
      "value": "vocab.txt: 100%"
     }
    },
    "3b6ae81cbf344fda9632b748fec2998d": {
     "model_module": "@jupyter-widgets/controls",
     "model_name": "FloatProgressModel",
     "model_module_version": "1.5.0",
     "state": {
      "_dom_classes": [],
      "_model_module": "@jupyter-widgets/controls",
      "_model_module_version": "1.5.0",
      "_model_name": "FloatProgressModel",
      "_view_count": null,
      "_view_module": "@jupyter-widgets/controls",
      "_view_module_version": "1.5.0",
      "_view_name": "ProgressView",
      "bar_style": "success",
      "description": "",
      "description_tooltip": null,
      "layout": "IPY_MODEL_e1829f0ce48441049c3ec4f5bfd9c11c",
      "max": 231508,
      "min": 0,
      "orientation": "horizontal",
      "style": "IPY_MODEL_13587aac556e4efda846b719048b573b",
      "value": 231508
     }
    },
    "6bc880effce94baf889847f3b2d2c9f3": {
     "model_module": "@jupyter-widgets/controls",
     "model_name": "HTMLModel",
     "model_module_version": "1.5.0",
     "state": {
      "_dom_classes": [],
      "_model_module": "@jupyter-widgets/controls",
      "_model_module_version": "1.5.0",
      "_model_name": "HTMLModel",
      "_view_count": null,
      "_view_module": "@jupyter-widgets/controls",
      "_view_module_version": "1.5.0",
      "_view_name": "HTMLView",
      "description": "",
      "description_tooltip": null,
      "layout": "IPY_MODEL_8f9076daa38b4cbfbc7ee1c333432d9d",
      "placeholder": "​",
      "style": "IPY_MODEL_5831fe30f7004039a4b0bd9bf0821228",
      "value": " 232k/232k [00:00&lt;00:00, 3.35MB/s]"
     }
    },
    "9d2e759c1768494d80acc6f311a7617a": {
     "model_module": "@jupyter-widgets/base",
     "model_name": "LayoutModel",
     "model_module_version": "1.2.0",
     "state": {
      "_model_module": "@jupyter-widgets/base",
      "_model_module_version": "1.2.0",
      "_model_name": "LayoutModel",
      "_view_count": null,
      "_view_module": "@jupyter-widgets/base",
      "_view_module_version": "1.2.0",
      "_view_name": "LayoutView",
      "align_content": null,
      "align_items": null,
      "align_self": null,
      "border": null,
      "bottom": null,
      "display": null,
      "flex": null,
      "flex_flow": null,
      "grid_area": null,
      "grid_auto_columns": null,
      "grid_auto_flow": null,
      "grid_auto_rows": null,
      "grid_column": null,
      "grid_gap": null,
      "grid_row": null,
      "grid_template_areas": null,
      "grid_template_columns": null,
      "grid_template_rows": null,
      "height": null,
      "justify_content": null,
      "justify_items": null,
      "left": null,
      "margin": null,
      "max_height": null,
      "max_width": null,
      "min_height": null,
      "min_width": null,
      "object_fit": null,
      "object_position": null,
      "order": null,
      "overflow": null,
      "overflow_x": null,
      "overflow_y": null,
      "padding": null,
      "right": null,
      "top": null,
      "visibility": null,
      "width": null
     }
    },
    "e322923c72bc4c46903f12842b48894c": {
     "model_module": "@jupyter-widgets/base",
     "model_name": "LayoutModel",
     "model_module_version": "1.2.0",
     "state": {
      "_model_module": "@jupyter-widgets/base",
      "_model_module_version": "1.2.0",
      "_model_name": "LayoutModel",
      "_view_count": null,
      "_view_module": "@jupyter-widgets/base",
      "_view_module_version": "1.2.0",
      "_view_name": "LayoutView",
      "align_content": null,
      "align_items": null,
      "align_self": null,
      "border": null,
      "bottom": null,
      "display": null,
      "flex": null,
      "flex_flow": null,
      "grid_area": null,
      "grid_auto_columns": null,
      "grid_auto_flow": null,
      "grid_auto_rows": null,
      "grid_column": null,
      "grid_gap": null,
      "grid_row": null,
      "grid_template_areas": null,
      "grid_template_columns": null,
      "grid_template_rows": null,
      "height": null,
      "justify_content": null,
      "justify_items": null,
      "left": null,
      "margin": null,
      "max_height": null,
      "max_width": null,
      "min_height": null,
      "min_width": null,
      "object_fit": null,
      "object_position": null,
      "order": null,
      "overflow": null,
      "overflow_x": null,
      "overflow_y": null,
      "padding": null,
      "right": null,
      "top": null,
      "visibility": null,
      "width": null
     }
    },
    "3a87c7ada08f45cf9ad2ec6a49b8abac": {
     "model_module": "@jupyter-widgets/controls",
     "model_name": "DescriptionStyleModel",
     "model_module_version": "1.5.0",
     "state": {
      "_model_module": "@jupyter-widgets/controls",
      "_model_module_version": "1.5.0",
      "_model_name": "DescriptionStyleModel",
      "_view_count": null,
      "_view_module": "@jupyter-widgets/base",
      "_view_module_version": "1.2.0",
      "_view_name": "StyleView",
      "description_width": ""
     }
    },
    "e1829f0ce48441049c3ec4f5bfd9c11c": {
     "model_module": "@jupyter-widgets/base",
     "model_name": "LayoutModel",
     "model_module_version": "1.2.0",
     "state": {
      "_model_module": "@jupyter-widgets/base",
      "_model_module_version": "1.2.0",
      "_model_name": "LayoutModel",
      "_view_count": null,
      "_view_module": "@jupyter-widgets/base",
      "_view_module_version": "1.2.0",
      "_view_name": "LayoutView",
      "align_content": null,
      "align_items": null,
      "align_self": null,
      "border": null,
      "bottom": null,
      "display": null,
      "flex": null,
      "flex_flow": null,
      "grid_area": null,
      "grid_auto_columns": null,
      "grid_auto_flow": null,
      "grid_auto_rows": null,
      "grid_column": null,
      "grid_gap": null,
      "grid_row": null,
      "grid_template_areas": null,
      "grid_template_columns": null,
      "grid_template_rows": null,
      "height": null,
      "justify_content": null,
      "justify_items": null,
      "left": null,
      "margin": null,
      "max_height": null,
      "max_width": null,
      "min_height": null,
      "min_width": null,
      "object_fit": null,
      "object_position": null,
      "order": null,
      "overflow": null,
      "overflow_x": null,
      "overflow_y": null,
      "padding": null,
      "right": null,
      "top": null,
      "visibility": null,
      "width": null
     }
    },
    "13587aac556e4efda846b719048b573b": {
     "model_module": "@jupyter-widgets/controls",
     "model_name": "ProgressStyleModel",
     "model_module_version": "1.5.0",
     "state": {
      "_model_module": "@jupyter-widgets/controls",
      "_model_module_version": "1.5.0",
      "_model_name": "ProgressStyleModel",
      "_view_count": null,
      "_view_module": "@jupyter-widgets/base",
      "_view_module_version": "1.2.0",
      "_view_name": "StyleView",
      "bar_color": null,
      "description_width": ""
     }
    },
    "8f9076daa38b4cbfbc7ee1c333432d9d": {
     "model_module": "@jupyter-widgets/base",
     "model_name": "LayoutModel",
     "model_module_version": "1.2.0",
     "state": {
      "_model_module": "@jupyter-widgets/base",
      "_model_module_version": "1.2.0",
      "_model_name": "LayoutModel",
      "_view_count": null,
      "_view_module": "@jupyter-widgets/base",
      "_view_module_version": "1.2.0",
      "_view_name": "LayoutView",
      "align_content": null,
      "align_items": null,
      "align_self": null,
      "border": null,
      "bottom": null,
      "display": null,
      "flex": null,
      "flex_flow": null,
      "grid_area": null,
      "grid_auto_columns": null,
      "grid_auto_flow": null,
      "grid_auto_rows": null,
      "grid_column": null,
      "grid_gap": null,
      "grid_row": null,
      "grid_template_areas": null,
      "grid_template_columns": null,
      "grid_template_rows": null,
      "height": null,
      "justify_content": null,
      "justify_items": null,
      "left": null,
      "margin": null,
      "max_height": null,
      "max_width": null,
      "min_height": null,
      "min_width": null,
      "object_fit": null,
      "object_position": null,
      "order": null,
      "overflow": null,
      "overflow_x": null,
      "overflow_y": null,
      "padding": null,
      "right": null,
      "top": null,
      "visibility": null,
      "width": null
     }
    },
    "5831fe30f7004039a4b0bd9bf0821228": {
     "model_module": "@jupyter-widgets/controls",
     "model_name": "DescriptionStyleModel",
     "model_module_version": "1.5.0",
     "state": {
      "_model_module": "@jupyter-widgets/controls",
      "_model_module_version": "1.5.0",
      "_model_name": "DescriptionStyleModel",
      "_view_count": null,
      "_view_module": "@jupyter-widgets/base",
      "_view_module_version": "1.2.0",
      "_view_name": "StyleView",
      "description_width": ""
     }
    },
    "4afb939b3e6541d389ca78d4c9e105fd": {
     "model_module": "@jupyter-widgets/controls",
     "model_name": "HBoxModel",
     "model_module_version": "1.5.0",
     "state": {
      "_dom_classes": [],
      "_model_module": "@jupyter-widgets/controls",
      "_model_module_version": "1.5.0",
      "_model_name": "HBoxModel",
      "_view_count": null,
      "_view_module": "@jupyter-widgets/controls",
      "_view_module_version": "1.5.0",
      "_view_name": "HBoxView",
      "box_style": "",
      "children": [
       "IPY_MODEL_736b20c7960e4747a5d9192200ee0f68",
       "IPY_MODEL_b81be42b925d4e7fab4332a3b3bb26df",
       "IPY_MODEL_3f55c6ed34454f2aa387f85ac49bbe57"
      ],
      "layout": "IPY_MODEL_539c3f2dea024b4283a3271aec51d0b5"
     }
    },
    "736b20c7960e4747a5d9192200ee0f68": {
     "model_module": "@jupyter-widgets/controls",
     "model_name": "HTMLModel",
     "model_module_version": "1.5.0",
     "state": {
      "_dom_classes": [],
      "_model_module": "@jupyter-widgets/controls",
      "_model_module_version": "1.5.0",
      "_model_name": "HTMLModel",
      "_view_count": null,
      "_view_module": "@jupyter-widgets/controls",
      "_view_module_version": "1.5.0",
      "_view_name": "HTMLView",
      "description": "",
      "description_tooltip": null,
      "layout": "IPY_MODEL_a3c60eea46f14c62b805c7467ff84595",
      "placeholder": "​",
      "style": "IPY_MODEL_52e78b9163df4818a0bfc56414a88c3e",
      "value": "tokenizer.json: 100%"
     }
    },
    "b81be42b925d4e7fab4332a3b3bb26df": {
     "model_module": "@jupyter-widgets/controls",
     "model_name": "FloatProgressModel",
     "model_module_version": "1.5.0",
     "state": {
      "_dom_classes": [],
      "_model_module": "@jupyter-widgets/controls",
      "_model_module_version": "1.5.0",
      "_model_name": "FloatProgressModel",
      "_view_count": null,
      "_view_module": "@jupyter-widgets/controls",
      "_view_module_version": "1.5.0",
      "_view_name": "ProgressView",
      "bar_style": "success",
      "description": "",
      "description_tooltip": null,
      "layout": "IPY_MODEL_aa4f24122c8845e6a580493b2c927859",
      "max": 466062,
      "min": 0,
      "orientation": "horizontal",
      "style": "IPY_MODEL_66d5ee9481394b5aa637b621cfae539d",
      "value": 466062
     }
    },
    "3f55c6ed34454f2aa387f85ac49bbe57": {
     "model_module": "@jupyter-widgets/controls",
     "model_name": "HTMLModel",
     "model_module_version": "1.5.0",
     "state": {
      "_dom_classes": [],
      "_model_module": "@jupyter-widgets/controls",
      "_model_module_version": "1.5.0",
      "_model_name": "HTMLModel",
      "_view_count": null,
      "_view_module": "@jupyter-widgets/controls",
      "_view_module_version": "1.5.0",
      "_view_name": "HTMLView",
      "description": "",
      "description_tooltip": null,
      "layout": "IPY_MODEL_c3ba07e21e5047aea49bc825092fa99e",
      "placeholder": "​",
      "style": "IPY_MODEL_9c687c4dd1824c0ba279c64c8d3565b4",
      "value": " 466k/466k [00:00&lt;00:00, 17.3MB/s]"
     }
    },
    "539c3f2dea024b4283a3271aec51d0b5": {
     "model_module": "@jupyter-widgets/base",
     "model_name": "LayoutModel",
     "model_module_version": "1.2.0",
     "state": {
      "_model_module": "@jupyter-widgets/base",
      "_model_module_version": "1.2.0",
      "_model_name": "LayoutModel",
      "_view_count": null,
      "_view_module": "@jupyter-widgets/base",
      "_view_module_version": "1.2.0",
      "_view_name": "LayoutView",
      "align_content": null,
      "align_items": null,
      "align_self": null,
      "border": null,
      "bottom": null,
      "display": null,
      "flex": null,
      "flex_flow": null,
      "grid_area": null,
      "grid_auto_columns": null,
      "grid_auto_flow": null,
      "grid_auto_rows": null,
      "grid_column": null,
      "grid_gap": null,
      "grid_row": null,
      "grid_template_areas": null,
      "grid_template_columns": null,
      "grid_template_rows": null,
      "height": null,
      "justify_content": null,
      "justify_items": null,
      "left": null,
      "margin": null,
      "max_height": null,
      "max_width": null,
      "min_height": null,
      "min_width": null,
      "object_fit": null,
      "object_position": null,
      "order": null,
      "overflow": null,
      "overflow_x": null,
      "overflow_y": null,
      "padding": null,
      "right": null,
      "top": null,
      "visibility": null,
      "width": null
     }
    },
    "a3c60eea46f14c62b805c7467ff84595": {
     "model_module": "@jupyter-widgets/base",
     "model_name": "LayoutModel",
     "model_module_version": "1.2.0",
     "state": {
      "_model_module": "@jupyter-widgets/base",
      "_model_module_version": "1.2.0",
      "_model_name": "LayoutModel",
      "_view_count": null,
      "_view_module": "@jupyter-widgets/base",
      "_view_module_version": "1.2.0",
      "_view_name": "LayoutView",
      "align_content": null,
      "align_items": null,
      "align_self": null,
      "border": null,
      "bottom": null,
      "display": null,
      "flex": null,
      "flex_flow": null,
      "grid_area": null,
      "grid_auto_columns": null,
      "grid_auto_flow": null,
      "grid_auto_rows": null,
      "grid_column": null,
      "grid_gap": null,
      "grid_row": null,
      "grid_template_areas": null,
      "grid_template_columns": null,
      "grid_template_rows": null,
      "height": null,
      "justify_content": null,
      "justify_items": null,
      "left": null,
      "margin": null,
      "max_height": null,
      "max_width": null,
      "min_height": null,
      "min_width": null,
      "object_fit": null,
      "object_position": null,
      "order": null,
      "overflow": null,
      "overflow_x": null,
      "overflow_y": null,
      "padding": null,
      "right": null,
      "top": null,
      "visibility": null,
      "width": null
     }
    },
    "52e78b9163df4818a0bfc56414a88c3e": {
     "model_module": "@jupyter-widgets/controls",
     "model_name": "DescriptionStyleModel",
     "model_module_version": "1.5.0",
     "state": {
      "_model_module": "@jupyter-widgets/controls",
      "_model_module_version": "1.5.0",
      "_model_name": "DescriptionStyleModel",
      "_view_count": null,
      "_view_module": "@jupyter-widgets/base",
      "_view_module_version": "1.2.0",
      "_view_name": "StyleView",
      "description_width": ""
     }
    },
    "aa4f24122c8845e6a580493b2c927859": {
     "model_module": "@jupyter-widgets/base",
     "model_name": "LayoutModel",
     "model_module_version": "1.2.0",
     "state": {
      "_model_module": "@jupyter-widgets/base",
      "_model_module_version": "1.2.0",
      "_model_name": "LayoutModel",
      "_view_count": null,
      "_view_module": "@jupyter-widgets/base",
      "_view_module_version": "1.2.0",
      "_view_name": "LayoutView",
      "align_content": null,
      "align_items": null,
      "align_self": null,
      "border": null,
      "bottom": null,
      "display": null,
      "flex": null,
      "flex_flow": null,
      "grid_area": null,
      "grid_auto_columns": null,
      "grid_auto_flow": null,
      "grid_auto_rows": null,
      "grid_column": null,
      "grid_gap": null,
      "grid_row": null,
      "grid_template_areas": null,
      "grid_template_columns": null,
      "grid_template_rows": null,
      "height": null,
      "justify_content": null,
      "justify_items": null,
      "left": null,
      "margin": null,
      "max_height": null,
      "max_width": null,
      "min_height": null,
      "min_width": null,
      "object_fit": null,
      "object_position": null,
      "order": null,
      "overflow": null,
      "overflow_x": null,
      "overflow_y": null,
      "padding": null,
      "right": null,
      "top": null,
      "visibility": null,
      "width": null
     }
    },
    "66d5ee9481394b5aa637b621cfae539d": {
     "model_module": "@jupyter-widgets/controls",
     "model_name": "ProgressStyleModel",
     "model_module_version": "1.5.0",
     "state": {
      "_model_module": "@jupyter-widgets/controls",
      "_model_module_version": "1.5.0",
      "_model_name": "ProgressStyleModel",
      "_view_count": null,
      "_view_module": "@jupyter-widgets/base",
      "_view_module_version": "1.2.0",
      "_view_name": "StyleView",
      "bar_color": null,
      "description_width": ""
     }
    },
    "c3ba07e21e5047aea49bc825092fa99e": {
     "model_module": "@jupyter-widgets/base",
     "model_name": "LayoutModel",
     "model_module_version": "1.2.0",
     "state": {
      "_model_module": "@jupyter-widgets/base",
      "_model_module_version": "1.2.0",
      "_model_name": "LayoutModel",
      "_view_count": null,
      "_view_module": "@jupyter-widgets/base",
      "_view_module_version": "1.2.0",
      "_view_name": "LayoutView",
      "align_content": null,
      "align_items": null,
      "align_self": null,
      "border": null,
      "bottom": null,
      "display": null,
      "flex": null,
      "flex_flow": null,
      "grid_area": null,
      "grid_auto_columns": null,
      "grid_auto_flow": null,
      "grid_auto_rows": null,
      "grid_column": null,
      "grid_gap": null,
      "grid_row": null,
      "grid_template_areas": null,
      "grid_template_columns": null,
      "grid_template_rows": null,
      "height": null,
      "justify_content": null,
      "justify_items": null,
      "left": null,
      "margin": null,
      "max_height": null,
      "max_width": null,
      "min_height": null,
      "min_width": null,
      "object_fit": null,
      "object_position": null,
      "order": null,
      "overflow": null,
      "overflow_x": null,
      "overflow_y": null,
      "padding": null,
      "right": null,
      "top": null,
      "visibility": null,
      "width": null
     }
    },
    "9c687c4dd1824c0ba279c64c8d3565b4": {
     "model_module": "@jupyter-widgets/controls",
     "model_name": "DescriptionStyleModel",
     "model_module_version": "1.5.0",
     "state": {
      "_model_module": "@jupyter-widgets/controls",
      "_model_module_version": "1.5.0",
      "_model_name": "DescriptionStyleModel",
      "_view_count": null,
      "_view_module": "@jupyter-widgets/base",
      "_view_module_version": "1.2.0",
      "_view_name": "StyleView",
      "description_width": ""
     }
    },
    "3b80038e1a12430fad8413b80bb9918d": {
     "model_module": "@jupyter-widgets/controls",
     "model_name": "HBoxModel",
     "model_module_version": "1.5.0",
     "state": {
      "_dom_classes": [],
      "_model_module": "@jupyter-widgets/controls",
      "_model_module_version": "1.5.0",
      "_model_name": "HBoxModel",
      "_view_count": null,
      "_view_module": "@jupyter-widgets/controls",
      "_view_module_version": "1.5.0",
      "_view_name": "HBoxView",
      "box_style": "",
      "children": [
       "IPY_MODEL_249021a7d0ba468bb2729411a7c98d4e",
       "IPY_MODEL_cedca911ec2e40dd8385f4555a56993a",
       "IPY_MODEL_16617d5cd9024d209744fd7cb846b5d1"
      ],
      "layout": "IPY_MODEL_68a2c1b7bfe44395ae224aea6d5b729e"
     }
    },
    "249021a7d0ba468bb2729411a7c98d4e": {
     "model_module": "@jupyter-widgets/controls",
     "model_name": "HTMLModel",
     "model_module_version": "1.5.0",
     "state": {
      "_dom_classes": [],
      "_model_module": "@jupyter-widgets/controls",
      "_model_module_version": "1.5.0",
      "_model_name": "HTMLModel",
      "_view_count": null,
      "_view_module": "@jupyter-widgets/controls",
      "_view_module_version": "1.5.0",
      "_view_name": "HTMLView",
      "description": "",
      "description_tooltip": null,
      "layout": "IPY_MODEL_cba8624d1d6d49adbb86cf9cf56ab5bb",
      "placeholder": "​",
      "style": "IPY_MODEL_11b2021a9f484d419e4ccfc6efd85352",
      "value": "config.json: 100%"
     }
    },
    "cedca911ec2e40dd8385f4555a56993a": {
     "model_module": "@jupyter-widgets/controls",
     "model_name": "FloatProgressModel",
     "model_module_version": "1.5.0",
     "state": {
      "_dom_classes": [],
      "_model_module": "@jupyter-widgets/controls",
      "_model_module_version": "1.5.0",
      "_model_name": "FloatProgressModel",
      "_view_count": null,
      "_view_module": "@jupyter-widgets/controls",
      "_view_module_version": "1.5.0",
      "_view_name": "ProgressView",
      "bar_style": "success",
      "description": "",
      "description_tooltip": null,
      "layout": "IPY_MODEL_6a19e237819642a89b09949daf153128",
      "max": 570,
      "min": 0,
      "orientation": "horizontal",
      "style": "IPY_MODEL_edd575a7fc4449aa853b3315617b55d8",
      "value": 570
     }
    },
    "16617d5cd9024d209744fd7cb846b5d1": {
     "model_module": "@jupyter-widgets/controls",
     "model_name": "HTMLModel",
     "model_module_version": "1.5.0",
     "state": {
      "_dom_classes": [],
      "_model_module": "@jupyter-widgets/controls",
      "_model_module_version": "1.5.0",
      "_model_name": "HTMLModel",
      "_view_count": null,
      "_view_module": "@jupyter-widgets/controls",
      "_view_module_version": "1.5.0",
      "_view_name": "HTMLView",
      "description": "",
      "description_tooltip": null,
      "layout": "IPY_MODEL_ee6eae539256473281ad78d51e8e2a8d",
      "placeholder": "​",
      "style": "IPY_MODEL_89b9f0e64192419aa4f6e7f9d8ee4627",
      "value": " 570/570 [00:00&lt;00:00, 36.5kB/s]"
     }
    },
    "68a2c1b7bfe44395ae224aea6d5b729e": {
     "model_module": "@jupyter-widgets/base",
     "model_name": "LayoutModel",
     "model_module_version": "1.2.0",
     "state": {
      "_model_module": "@jupyter-widgets/base",
      "_model_module_version": "1.2.0",
      "_model_name": "LayoutModel",
      "_view_count": null,
      "_view_module": "@jupyter-widgets/base",
      "_view_module_version": "1.2.0",
      "_view_name": "LayoutView",
      "align_content": null,
      "align_items": null,
      "align_self": null,
      "border": null,
      "bottom": null,
      "display": null,
      "flex": null,
      "flex_flow": null,
      "grid_area": null,
      "grid_auto_columns": null,
      "grid_auto_flow": null,
      "grid_auto_rows": null,
      "grid_column": null,
      "grid_gap": null,
      "grid_row": null,
      "grid_template_areas": null,
      "grid_template_columns": null,
      "grid_template_rows": null,
      "height": null,
      "justify_content": null,
      "justify_items": null,
      "left": null,
      "margin": null,
      "max_height": null,
      "max_width": null,
      "min_height": null,
      "min_width": null,
      "object_fit": null,
      "object_position": null,
      "order": null,
      "overflow": null,
      "overflow_x": null,
      "overflow_y": null,
      "padding": null,
      "right": null,
      "top": null,
      "visibility": null,
      "width": null
     }
    },
    "cba8624d1d6d49adbb86cf9cf56ab5bb": {
     "model_module": "@jupyter-widgets/base",
     "model_name": "LayoutModel",
     "model_module_version": "1.2.0",
     "state": {
      "_model_module": "@jupyter-widgets/base",
      "_model_module_version": "1.2.0",
      "_model_name": "LayoutModel",
      "_view_count": null,
      "_view_module": "@jupyter-widgets/base",
      "_view_module_version": "1.2.0",
      "_view_name": "LayoutView",
      "align_content": null,
      "align_items": null,
      "align_self": null,
      "border": null,
      "bottom": null,
      "display": null,
      "flex": null,
      "flex_flow": null,
      "grid_area": null,
      "grid_auto_columns": null,
      "grid_auto_flow": null,
      "grid_auto_rows": null,
      "grid_column": null,
      "grid_gap": null,
      "grid_row": null,
      "grid_template_areas": null,
      "grid_template_columns": null,
      "grid_template_rows": null,
      "height": null,
      "justify_content": null,
      "justify_items": null,
      "left": null,
      "margin": null,
      "max_height": null,
      "max_width": null,
      "min_height": null,
      "min_width": null,
      "object_fit": null,
      "object_position": null,
      "order": null,
      "overflow": null,
      "overflow_x": null,
      "overflow_y": null,
      "padding": null,
      "right": null,
      "top": null,
      "visibility": null,
      "width": null
     }
    },
    "11b2021a9f484d419e4ccfc6efd85352": {
     "model_module": "@jupyter-widgets/controls",
     "model_name": "DescriptionStyleModel",
     "model_module_version": "1.5.0",
     "state": {
      "_model_module": "@jupyter-widgets/controls",
      "_model_module_version": "1.5.0",
      "_model_name": "DescriptionStyleModel",
      "_view_count": null,
      "_view_module": "@jupyter-widgets/base",
      "_view_module_version": "1.2.0",
      "_view_name": "StyleView",
      "description_width": ""
     }
    },
    "6a19e237819642a89b09949daf153128": {
     "model_module": "@jupyter-widgets/base",
     "model_name": "LayoutModel",
     "model_module_version": "1.2.0",
     "state": {
      "_model_module": "@jupyter-widgets/base",
      "_model_module_version": "1.2.0",
      "_model_name": "LayoutModel",
      "_view_count": null,
      "_view_module": "@jupyter-widgets/base",
      "_view_module_version": "1.2.0",
      "_view_name": "LayoutView",
      "align_content": null,
      "align_items": null,
      "align_self": null,
      "border": null,
      "bottom": null,
      "display": null,
      "flex": null,
      "flex_flow": null,
      "grid_area": null,
      "grid_auto_columns": null,
      "grid_auto_flow": null,
      "grid_auto_rows": null,
      "grid_column": null,
      "grid_gap": null,
      "grid_row": null,
      "grid_template_areas": null,
      "grid_template_columns": null,
      "grid_template_rows": null,
      "height": null,
      "justify_content": null,
      "justify_items": null,
      "left": null,
      "margin": null,
      "max_height": null,
      "max_width": null,
      "min_height": null,
      "min_width": null,
      "object_fit": null,
      "object_position": null,
      "order": null,
      "overflow": null,
      "overflow_x": null,
      "overflow_y": null,
      "padding": null,
      "right": null,
      "top": null,
      "visibility": null,
      "width": null
     }
    },
    "edd575a7fc4449aa853b3315617b55d8": {
     "model_module": "@jupyter-widgets/controls",
     "model_name": "ProgressStyleModel",
     "model_module_version": "1.5.0",
     "state": {
      "_model_module": "@jupyter-widgets/controls",
      "_model_module_version": "1.5.0",
      "_model_name": "ProgressStyleModel",
      "_view_count": null,
      "_view_module": "@jupyter-widgets/base",
      "_view_module_version": "1.2.0",
      "_view_name": "StyleView",
      "bar_color": null,
      "description_width": ""
     }
    },
    "ee6eae539256473281ad78d51e8e2a8d": {
     "model_module": "@jupyter-widgets/base",
     "model_name": "LayoutModel",
     "model_module_version": "1.2.0",
     "state": {
      "_model_module": "@jupyter-widgets/base",
      "_model_module_version": "1.2.0",
      "_model_name": "LayoutModel",
      "_view_count": null,
      "_view_module": "@jupyter-widgets/base",
      "_view_module_version": "1.2.0",
      "_view_name": "LayoutView",
      "align_content": null,
      "align_items": null,
      "align_self": null,
      "border": null,
      "bottom": null,
      "display": null,
      "flex": null,
      "flex_flow": null,
      "grid_area": null,
      "grid_auto_columns": null,
      "grid_auto_flow": null,
      "grid_auto_rows": null,
      "grid_column": null,
      "grid_gap": null,
      "grid_row": null,
      "grid_template_areas": null,
      "grid_template_columns": null,
      "grid_template_rows": null,
      "height": null,
      "justify_content": null,
      "justify_items": null,
      "left": null,
      "margin": null,
      "max_height": null,
      "max_width": null,
      "min_height": null,
      "min_width": null,
      "object_fit": null,
      "object_position": null,
      "order": null,
      "overflow": null,
      "overflow_x": null,
      "overflow_y": null,
      "padding": null,
      "right": null,
      "top": null,
      "visibility": null,
      "width": null
     }
    },
    "89b9f0e64192419aa4f6e7f9d8ee4627": {
     "model_module": "@jupyter-widgets/controls",
     "model_name": "DescriptionStyleModel",
     "model_module_version": "1.5.0",
     "state": {
      "_model_module": "@jupyter-widgets/controls",
      "_model_module_version": "1.5.0",
      "_model_name": "DescriptionStyleModel",
      "_view_count": null,
      "_view_module": "@jupyter-widgets/base",
      "_view_module_version": "1.2.0",
      "_view_name": "StyleView",
      "description_width": ""
     }
    },
    "7b6b72087edd4954b7e396a09235b42e": {
     "model_module": "@jupyter-widgets/controls",
     "model_name": "HBoxModel",
     "model_module_version": "1.5.0",
     "state": {
      "_dom_classes": [],
      "_model_module": "@jupyter-widgets/controls",
      "_model_module_version": "1.5.0",
      "_model_name": "HBoxModel",
      "_view_count": null,
      "_view_module": "@jupyter-widgets/controls",
      "_view_module_version": "1.5.0",
      "_view_name": "HBoxView",
      "box_style": "",
      "children": [
       "IPY_MODEL_6de41f8411a84fbf97aa51395be13aa6",
       "IPY_MODEL_af61afdd142344b7b926f2d2c425ab88",
       "IPY_MODEL_d7f771f72b884be6a72e9938183ef81c"
      ],
      "layout": "IPY_MODEL_9c98e046a56c40058bc71d34f408090c"
     }
    },
    "6de41f8411a84fbf97aa51395be13aa6": {
     "model_module": "@jupyter-widgets/controls",
     "model_name": "HTMLModel",
     "model_module_version": "1.5.0",
     "state": {
      "_dom_classes": [],
      "_model_module": "@jupyter-widgets/controls",
      "_model_module_version": "1.5.0",
      "_model_name": "HTMLModel",
      "_view_count": null,
      "_view_module": "@jupyter-widgets/controls",
      "_view_module_version": "1.5.0",
      "_view_name": "HTMLView",
      "description": "",
      "description_tooltip": null,
      "layout": "IPY_MODEL_736a0d47a9824d798865580bab82b642",
      "placeholder": "​",
      "style": "IPY_MODEL_3da7a8aa34eb499e8f591991c491ff83",
      "value": "model.safetensors: 100%"
     }
    },
    "af61afdd142344b7b926f2d2c425ab88": {
     "model_module": "@jupyter-widgets/controls",
     "model_name": "FloatProgressModel",
     "model_module_version": "1.5.0",
     "state": {
      "_dom_classes": [],
      "_model_module": "@jupyter-widgets/controls",
      "_model_module_version": "1.5.0",
      "_model_name": "FloatProgressModel",
      "_view_count": null,
      "_view_module": "@jupyter-widgets/controls",
      "_view_module_version": "1.5.0",
      "_view_name": "ProgressView",
      "bar_style": "success",
      "description": "",
      "description_tooltip": null,
      "layout": "IPY_MODEL_89908a3a7ddb4d8b8e857e39251dfa6c",
      "max": 440449768,
      "min": 0,
      "orientation": "horizontal",
      "style": "IPY_MODEL_a726a96f21cb4fcd9464a20cf045ec2e",
      "value": 440449768
     }
    },
    "d7f771f72b884be6a72e9938183ef81c": {
     "model_module": "@jupyter-widgets/controls",
     "model_name": "HTMLModel",
     "model_module_version": "1.5.0",
     "state": {
      "_dom_classes": [],
      "_model_module": "@jupyter-widgets/controls",
      "_model_module_version": "1.5.0",
      "_model_name": "HTMLModel",
      "_view_count": null,
      "_view_module": "@jupyter-widgets/controls",
      "_view_module_version": "1.5.0",
      "_view_name": "HTMLView",
      "description": "",
      "description_tooltip": null,
      "layout": "IPY_MODEL_955053b8f64246dbbf9ee0619fa6107a",
      "placeholder": "​",
      "style": "IPY_MODEL_75db2074a8044c108510f7f56d6f55b9",
      "value": " 440M/440M [00:02&lt;00:00, 238MB/s]"
     }
    },
    "9c98e046a56c40058bc71d34f408090c": {
     "model_module": "@jupyter-widgets/base",
     "model_name": "LayoutModel",
     "model_module_version": "1.2.0",
     "state": {
      "_model_module": "@jupyter-widgets/base",
      "_model_module_version": "1.2.0",
      "_model_name": "LayoutModel",
      "_view_count": null,
      "_view_module": "@jupyter-widgets/base",
      "_view_module_version": "1.2.0",
      "_view_name": "LayoutView",
      "align_content": null,
      "align_items": null,
      "align_self": null,
      "border": null,
      "bottom": null,
      "display": null,
      "flex": null,
      "flex_flow": null,
      "grid_area": null,
      "grid_auto_columns": null,
      "grid_auto_flow": null,
      "grid_auto_rows": null,
      "grid_column": null,
      "grid_gap": null,
      "grid_row": null,
      "grid_template_areas": null,
      "grid_template_columns": null,
      "grid_template_rows": null,
      "height": null,
      "justify_content": null,
      "justify_items": null,
      "left": null,
      "margin": null,
      "max_height": null,
      "max_width": null,
      "min_height": null,
      "min_width": null,
      "object_fit": null,
      "object_position": null,
      "order": null,
      "overflow": null,
      "overflow_x": null,
      "overflow_y": null,
      "padding": null,
      "right": null,
      "top": null,
      "visibility": null,
      "width": null
     }
    },
    "736a0d47a9824d798865580bab82b642": {
     "model_module": "@jupyter-widgets/base",
     "model_name": "LayoutModel",
     "model_module_version": "1.2.0",
     "state": {
      "_model_module": "@jupyter-widgets/base",
      "_model_module_version": "1.2.0",
      "_model_name": "LayoutModel",
      "_view_count": null,
      "_view_module": "@jupyter-widgets/base",
      "_view_module_version": "1.2.0",
      "_view_name": "LayoutView",
      "align_content": null,
      "align_items": null,
      "align_self": null,
      "border": null,
      "bottom": null,
      "display": null,
      "flex": null,
      "flex_flow": null,
      "grid_area": null,
      "grid_auto_columns": null,
      "grid_auto_flow": null,
      "grid_auto_rows": null,
      "grid_column": null,
      "grid_gap": null,
      "grid_row": null,
      "grid_template_areas": null,
      "grid_template_columns": null,
      "grid_template_rows": null,
      "height": null,
      "justify_content": null,
      "justify_items": null,
      "left": null,
      "margin": null,
      "max_height": null,
      "max_width": null,
      "min_height": null,
      "min_width": null,
      "object_fit": null,
      "object_position": null,
      "order": null,
      "overflow": null,
      "overflow_x": null,
      "overflow_y": null,
      "padding": null,
      "right": null,
      "top": null,
      "visibility": null,
      "width": null
     }
    },
    "3da7a8aa34eb499e8f591991c491ff83": {
     "model_module": "@jupyter-widgets/controls",
     "model_name": "DescriptionStyleModel",
     "model_module_version": "1.5.0",
     "state": {
      "_model_module": "@jupyter-widgets/controls",
      "_model_module_version": "1.5.0",
      "_model_name": "DescriptionStyleModel",
      "_view_count": null,
      "_view_module": "@jupyter-widgets/base",
      "_view_module_version": "1.2.0",
      "_view_name": "StyleView",
      "description_width": ""
     }
    },
    "89908a3a7ddb4d8b8e857e39251dfa6c": {
     "model_module": "@jupyter-widgets/base",
     "model_name": "LayoutModel",
     "model_module_version": "1.2.0",
     "state": {
      "_model_module": "@jupyter-widgets/base",
      "_model_module_version": "1.2.0",
      "_model_name": "LayoutModel",
      "_view_count": null,
      "_view_module": "@jupyter-widgets/base",
      "_view_module_version": "1.2.0",
      "_view_name": "LayoutView",
      "align_content": null,
      "align_items": null,
      "align_self": null,
      "border": null,
      "bottom": null,
      "display": null,
      "flex": null,
      "flex_flow": null,
      "grid_area": null,
      "grid_auto_columns": null,
      "grid_auto_flow": null,
      "grid_auto_rows": null,
      "grid_column": null,
      "grid_gap": null,
      "grid_row": null,
      "grid_template_areas": null,
      "grid_template_columns": null,
      "grid_template_rows": null,
      "height": null,
      "justify_content": null,
      "justify_items": null,
      "left": null,
      "margin": null,
      "max_height": null,
      "max_width": null,
      "min_height": null,
      "min_width": null,
      "object_fit": null,
      "object_position": null,
      "order": null,
      "overflow": null,
      "overflow_x": null,
      "overflow_y": null,
      "padding": null,
      "right": null,
      "top": null,
      "visibility": null,
      "width": null
     }
    },
    "a726a96f21cb4fcd9464a20cf045ec2e": {
     "model_module": "@jupyter-widgets/controls",
     "model_name": "ProgressStyleModel",
     "model_module_version": "1.5.0",
     "state": {
      "_model_module": "@jupyter-widgets/controls",
      "_model_module_version": "1.5.0",
      "_model_name": "ProgressStyleModel",
      "_view_count": null,
      "_view_module": "@jupyter-widgets/base",
      "_view_module_version": "1.2.0",
      "_view_name": "StyleView",
      "bar_color": null,
      "description_width": ""
     }
    },
    "955053b8f64246dbbf9ee0619fa6107a": {
     "model_module": "@jupyter-widgets/base",
     "model_name": "LayoutModel",
     "model_module_version": "1.2.0",
     "state": {
      "_model_module": "@jupyter-widgets/base",
      "_model_module_version": "1.2.0",
      "_model_name": "LayoutModel",
      "_view_count": null,
      "_view_module": "@jupyter-widgets/base",
      "_view_module_version": "1.2.0",
      "_view_name": "LayoutView",
      "align_content": null,
      "align_items": null,
      "align_self": null,
      "border": null,
      "bottom": null,
      "display": null,
      "flex": null,
      "flex_flow": null,
      "grid_area": null,
      "grid_auto_columns": null,
      "grid_auto_flow": null,
      "grid_auto_rows": null,
      "grid_column": null,
      "grid_gap": null,
      "grid_row": null,
      "grid_template_areas": null,
      "grid_template_columns": null,
      "grid_template_rows": null,
      "height": null,
      "justify_content": null,
      "justify_items": null,
      "left": null,
      "margin": null,
      "max_height": null,
      "max_width": null,
      "min_height": null,
      "min_width": null,
      "object_fit": null,
      "object_position": null,
      "order": null,
      "overflow": null,
      "overflow_x": null,
      "overflow_y": null,
      "padding": null,
      "right": null,
      "top": null,
      "visibility": null,
      "width": null
     }
    },
    "75db2074a8044c108510f7f56d6f55b9": {
     "model_module": "@jupyter-widgets/controls",
     "model_name": "DescriptionStyleModel",
     "model_module_version": "1.5.0",
     "state": {
      "_model_module": "@jupyter-widgets/controls",
      "_model_module_version": "1.5.0",
      "_model_name": "DescriptionStyleModel",
      "_view_count": null,
      "_view_module": "@jupyter-widgets/base",
      "_view_module_version": "1.2.0",
      "_view_name": "StyleView",
      "description_width": ""
     }
    },
    "3b7dab9bbfec42acbba6744257628783": {
     "model_module": "@jupyter-widgets/controls",
     "model_name": "HBoxModel",
     "model_module_version": "1.5.0",
     "state": {
      "_dom_classes": [],
      "_model_module": "@jupyter-widgets/controls",
      "_model_module_version": "1.5.0",
      "_model_name": "HBoxModel",
      "_view_count": null,
      "_view_module": "@jupyter-widgets/controls",
      "_view_module_version": "1.5.0",
      "_view_name": "HBoxView",
      "box_style": "",
      "children": [
       "IPY_MODEL_561a55cc8af1425b9610c85d88b9083a",
       "IPY_MODEL_7bbfd315e5b9494d8b25626e350c02ed",
       "IPY_MODEL_4a7c4051a75949908256d450ae734675"
      ],
      "layout": "IPY_MODEL_fb62d597f06a4c8388e395d7193bbd98"
     }
    },
    "561a55cc8af1425b9610c85d88b9083a": {
     "model_module": "@jupyter-widgets/controls",
     "model_name": "HTMLModel",
     "model_module_version": "1.5.0",
     "state": {
      "_dom_classes": [],
      "_model_module": "@jupyter-widgets/controls",
      "_model_module_version": "1.5.0",
      "_model_name": "HTMLModel",
      "_view_count": null,
      "_view_module": "@jupyter-widgets/controls",
      "_view_module_version": "1.5.0",
      "_view_name": "HTMLView",
      "description": "",
      "description_tooltip": null,
      "layout": "IPY_MODEL_cd1d8c5730074120ac31fca370ff523c",
      "placeholder": "​",
      "style": "IPY_MODEL_396c674595ff4a81beebe550f01d8f3c",
      "value": "  0%"
     }
    },
    "7bbfd315e5b9494d8b25626e350c02ed": {
     "model_module": "@jupyter-widgets/controls",
     "model_name": "FloatProgressModel",
     "model_module_version": "1.5.0",
     "state": {
      "_dom_classes": [],
      "_model_module": "@jupyter-widgets/controls",
      "_model_module_version": "1.5.0",
      "_model_name": "FloatProgressModel",
      "_view_count": null,
      "_view_module": "@jupyter-widgets/controls",
      "_view_module_version": "1.5.0",
      "_view_name": "ProgressView",
      "bar_style": "danger",
      "description": "",
      "description_tooltip": null,
      "layout": "IPY_MODEL_873fafd04c2441b9b120399dfb2ac443",
      "max": 50,
      "min": 0,
      "orientation": "horizontal",
      "style": "IPY_MODEL_4aa42ea5097449d6a73f05e3ee5a6c71",
      "value": 0
     }
    },
    "4a7c4051a75949908256d450ae734675": {
     "model_module": "@jupyter-widgets/controls",
     "model_name": "HTMLModel",
     "model_module_version": "1.5.0",
     "state": {
      "_dom_classes": [],
      "_model_module": "@jupyter-widgets/controls",
      "_model_module_version": "1.5.0",
      "_model_name": "HTMLModel",
      "_view_count": null,
      "_view_module": "@jupyter-widgets/controls",
      "_view_module_version": "1.5.0",
      "_view_name": "HTMLView",
      "description": "",
      "description_tooltip": null,
      "layout": "IPY_MODEL_c2d2210e2c1b4ff3afedd004cf69de48",
      "placeholder": "​",
      "style": "IPY_MODEL_87c0c0fb395f4d7e8ccfedd0e5c9d206",
      "value": " 0/50 [00:01&lt;?, ?it/s]"
     }
    },
    "fb62d597f06a4c8388e395d7193bbd98": {
     "model_module": "@jupyter-widgets/base",
     "model_name": "LayoutModel",
     "model_module_version": "1.2.0",
     "state": {
      "_model_module": "@jupyter-widgets/base",
      "_model_module_version": "1.2.0",
      "_model_name": "LayoutModel",
      "_view_count": null,
      "_view_module": "@jupyter-widgets/base",
      "_view_module_version": "1.2.0",
      "_view_name": "LayoutView",
      "align_content": null,
      "align_items": null,
      "align_self": null,
      "border": null,
      "bottom": null,
      "display": null,
      "flex": null,
      "flex_flow": null,
      "grid_area": null,
      "grid_auto_columns": null,
      "grid_auto_flow": null,
      "grid_auto_rows": null,
      "grid_column": null,
      "grid_gap": null,
      "grid_row": null,
      "grid_template_areas": null,
      "grid_template_columns": null,
      "grid_template_rows": null,
      "height": null,
      "justify_content": null,
      "justify_items": null,
      "left": null,
      "margin": null,
      "max_height": null,
      "max_width": null,
      "min_height": null,
      "min_width": null,
      "object_fit": null,
      "object_position": null,
      "order": null,
      "overflow": null,
      "overflow_x": null,
      "overflow_y": null,
      "padding": null,
      "right": null,
      "top": null,
      "visibility": null,
      "width": null
     }
    },
    "cd1d8c5730074120ac31fca370ff523c": {
     "model_module": "@jupyter-widgets/base",
     "model_name": "LayoutModel",
     "model_module_version": "1.2.0",
     "state": {
      "_model_module": "@jupyter-widgets/base",
      "_model_module_version": "1.2.0",
      "_model_name": "LayoutModel",
      "_view_count": null,
      "_view_module": "@jupyter-widgets/base",
      "_view_module_version": "1.2.0",
      "_view_name": "LayoutView",
      "align_content": null,
      "align_items": null,
      "align_self": null,
      "border": null,
      "bottom": null,
      "display": null,
      "flex": null,
      "flex_flow": null,
      "grid_area": null,
      "grid_auto_columns": null,
      "grid_auto_flow": null,
      "grid_auto_rows": null,
      "grid_column": null,
      "grid_gap": null,
      "grid_row": null,
      "grid_template_areas": null,
      "grid_template_columns": null,
      "grid_template_rows": null,
      "height": null,
      "justify_content": null,
      "justify_items": null,
      "left": null,
      "margin": null,
      "max_height": null,
      "max_width": null,
      "min_height": null,
      "min_width": null,
      "object_fit": null,
      "object_position": null,
      "order": null,
      "overflow": null,
      "overflow_x": null,
      "overflow_y": null,
      "padding": null,
      "right": null,
      "top": null,
      "visibility": null,
      "width": null
     }
    },
    "396c674595ff4a81beebe550f01d8f3c": {
     "model_module": "@jupyter-widgets/controls",
     "model_name": "DescriptionStyleModel",
     "model_module_version": "1.5.0",
     "state": {
      "_model_module": "@jupyter-widgets/controls",
      "_model_module_version": "1.5.0",
      "_model_name": "DescriptionStyleModel",
      "_view_count": null,
      "_view_module": "@jupyter-widgets/base",
      "_view_module_version": "1.2.0",
      "_view_name": "StyleView",
      "description_width": ""
     }
    },
    "873fafd04c2441b9b120399dfb2ac443": {
     "model_module": "@jupyter-widgets/base",
     "model_name": "LayoutModel",
     "model_module_version": "1.2.0",
     "state": {
      "_model_module": "@jupyter-widgets/base",
      "_model_module_version": "1.2.0",
      "_model_name": "LayoutModel",
      "_view_count": null,
      "_view_module": "@jupyter-widgets/base",
      "_view_module_version": "1.2.0",
      "_view_name": "LayoutView",
      "align_content": null,
      "align_items": null,
      "align_self": null,
      "border": null,
      "bottom": null,
      "display": null,
      "flex": null,
      "flex_flow": null,
      "grid_area": null,
      "grid_auto_columns": null,
      "grid_auto_flow": null,
      "grid_auto_rows": null,
      "grid_column": null,
      "grid_gap": null,
      "grid_row": null,
      "grid_template_areas": null,
      "grid_template_columns": null,
      "grid_template_rows": null,
      "height": null,
      "justify_content": null,
      "justify_items": null,
      "left": null,
      "margin": null,
      "max_height": null,
      "max_width": null,
      "min_height": null,
      "min_width": null,
      "object_fit": null,
      "object_position": null,
      "order": null,
      "overflow": null,
      "overflow_x": null,
      "overflow_y": null,
      "padding": null,
      "right": null,
      "top": null,
      "visibility": null,
      "width": null
     }
    },
    "4aa42ea5097449d6a73f05e3ee5a6c71": {
     "model_module": "@jupyter-widgets/controls",
     "model_name": "ProgressStyleModel",
     "model_module_version": "1.5.0",
     "state": {
      "_model_module": "@jupyter-widgets/controls",
      "_model_module_version": "1.5.0",
      "_model_name": "ProgressStyleModel",
      "_view_count": null,
      "_view_module": "@jupyter-widgets/base",
      "_view_module_version": "1.2.0",
      "_view_name": "StyleView",
      "bar_color": null,
      "description_width": ""
     }
    },
    "c2d2210e2c1b4ff3afedd004cf69de48": {
     "model_module": "@jupyter-widgets/base",
     "model_name": "LayoutModel",
     "model_module_version": "1.2.0",
     "state": {
      "_model_module": "@jupyter-widgets/base",
      "_model_module_version": "1.2.0",
      "_model_name": "LayoutModel",
      "_view_count": null,
      "_view_module": "@jupyter-widgets/base",
      "_view_module_version": "1.2.0",
      "_view_name": "LayoutView",
      "align_content": null,
      "align_items": null,
      "align_self": null,
      "border": null,
      "bottom": null,
      "display": null,
      "flex": null,
      "flex_flow": null,
      "grid_area": null,
      "grid_auto_columns": null,
      "grid_auto_flow": null,
      "grid_auto_rows": null,
      "grid_column": null,
      "grid_gap": null,
      "grid_row": null,
      "grid_template_areas": null,
      "grid_template_columns": null,
      "grid_template_rows": null,
      "height": null,
      "justify_content": null,
      "justify_items": null,
      "left": null,
      "margin": null,
      "max_height": null,
      "max_width": null,
      "min_height": null,
      "min_width": null,
      "object_fit": null,
      "object_position": null,
      "order": null,
      "overflow": null,
      "overflow_x": null,
      "overflow_y": null,
      "padding": null,
      "right": null,
      "top": null,
      "visibility": null,
      "width": null
     }
    },
    "87c0c0fb395f4d7e8ccfedd0e5c9d206": {
     "model_module": "@jupyter-widgets/controls",
     "model_name": "DescriptionStyleModel",
     "model_module_version": "1.5.0",
     "state": {
      "_model_module": "@jupyter-widgets/controls",
      "_model_module_version": "1.5.0",
      "_model_name": "DescriptionStyleModel",
      "_view_count": null,
      "_view_module": "@jupyter-widgets/base",
      "_view_module_version": "1.2.0",
      "_view_name": "StyleView",
      "description_width": ""
     }
    },
    "d6b1dc5eea5447d5a8d6cdf8a647751d": {
     "model_module": "@jupyter-widgets/controls",
     "model_name": "HBoxModel",
     "model_module_version": "1.5.0",
     "state": {
      "_dom_classes": [],
      "_model_module": "@jupyter-widgets/controls",
      "_model_module_version": "1.5.0",
      "_model_name": "HBoxModel",
      "_view_count": null,
      "_view_module": "@jupyter-widgets/controls",
      "_view_module_version": "1.5.0",
      "_view_name": "HBoxView",
      "box_style": "",
      "children": [
       "IPY_MODEL_c6fa441d17aa441f925d7cb43bad15b7",
       "IPY_MODEL_9953d2470dbc434a95ff5e30538f7137",
       "IPY_MODEL_706f824720d244ccada520a2ca91d85d"
      ],
      "layout": "IPY_MODEL_174f5ad8a81540df9fbe8a2fb0e67df3"
     }
    },
    "c6fa441d17aa441f925d7cb43bad15b7": {
     "model_module": "@jupyter-widgets/controls",
     "model_name": "HTMLModel",
     "model_module_version": "1.5.0",
     "state": {
      "_dom_classes": [],
      "_model_module": "@jupyter-widgets/controls",
      "_model_module_version": "1.5.0",
      "_model_name": "HTMLModel",
      "_view_count": null,
      "_view_module": "@jupyter-widgets/controls",
      "_view_module_version": "1.5.0",
      "_view_name": "HTMLView",
      "description": "",
      "description_tooltip": null,
      "layout": "IPY_MODEL_8be6a6b94efe490f88b3b1cc9faec36b",
      "placeholder": "​",
      "style": "IPY_MODEL_6fc6c8b7019240708d94700c864d8993",
      "value": "  0%"
     }
    },
    "9953d2470dbc434a95ff5e30538f7137": {
     "model_module": "@jupyter-widgets/controls",
     "model_name": "FloatProgressModel",
     "model_module_version": "1.5.0",
     "state": {
      "_dom_classes": [],
      "_model_module": "@jupyter-widgets/controls",
      "_model_module_version": "1.5.0",
      "_model_name": "FloatProgressModel",
      "_view_count": null,
      "_view_module": "@jupyter-widgets/controls",
      "_view_module_version": "1.5.0",
      "_view_name": "ProgressView",
      "bar_style": "danger",
      "description": "",
      "description_tooltip": null,
      "layout": "IPY_MODEL_1c46807f2aed4d189044470716a62269",
      "max": 70,
      "min": 0,
      "orientation": "horizontal",
      "style": "IPY_MODEL_7d997f9cbd0d43f7a164492977640521",
      "value": 0
     }
    },
    "706f824720d244ccada520a2ca91d85d": {
     "model_module": "@jupyter-widgets/controls",
     "model_name": "HTMLModel",
     "model_module_version": "1.5.0",
     "state": {
      "_dom_classes": [],
      "_model_module": "@jupyter-widgets/controls",
      "_model_module_version": "1.5.0",
      "_model_name": "HTMLModel",
      "_view_count": null,
      "_view_module": "@jupyter-widgets/controls",
      "_view_module_version": "1.5.0",
      "_view_name": "HTMLView",
      "description": "",
      "description_tooltip": null,
      "layout": "IPY_MODEL_57ef498ef73a4288a3739ac0a2578a9b",
      "placeholder": "​",
      "style": "IPY_MODEL_59cc3d7826d14456a026375d8feb9209",
      "value": " 0/70 [00:01&lt;?, ?it/s]"
     }
    },
    "174f5ad8a81540df9fbe8a2fb0e67df3": {
     "model_module": "@jupyter-widgets/base",
     "model_name": "LayoutModel",
     "model_module_version": "1.2.0",
     "state": {
      "_model_module": "@jupyter-widgets/base",
      "_model_module_version": "1.2.0",
      "_model_name": "LayoutModel",
      "_view_count": null,
      "_view_module": "@jupyter-widgets/base",
      "_view_module_version": "1.2.0",
      "_view_name": "LayoutView",
      "align_content": null,
      "align_items": null,
      "align_self": null,
      "border": null,
      "bottom": null,
      "display": null,
      "flex": null,
      "flex_flow": null,
      "grid_area": null,
      "grid_auto_columns": null,
      "grid_auto_flow": null,
      "grid_auto_rows": null,
      "grid_column": null,
      "grid_gap": null,
      "grid_row": null,
      "grid_template_areas": null,
      "grid_template_columns": null,
      "grid_template_rows": null,
      "height": null,
      "justify_content": null,
      "justify_items": null,
      "left": null,
      "margin": null,
      "max_height": null,
      "max_width": null,
      "min_height": null,
      "min_width": null,
      "object_fit": null,
      "object_position": null,
      "order": null,
      "overflow": null,
      "overflow_x": null,
      "overflow_y": null,
      "padding": null,
      "right": null,
      "top": null,
      "visibility": null,
      "width": null
     }
    },
    "8be6a6b94efe490f88b3b1cc9faec36b": {
     "model_module": "@jupyter-widgets/base",
     "model_name": "LayoutModel",
     "model_module_version": "1.2.0",
     "state": {
      "_model_module": "@jupyter-widgets/base",
      "_model_module_version": "1.2.0",
      "_model_name": "LayoutModel",
      "_view_count": null,
      "_view_module": "@jupyter-widgets/base",
      "_view_module_version": "1.2.0",
      "_view_name": "LayoutView",
      "align_content": null,
      "align_items": null,
      "align_self": null,
      "border": null,
      "bottom": null,
      "display": null,
      "flex": null,
      "flex_flow": null,
      "grid_area": null,
      "grid_auto_columns": null,
      "grid_auto_flow": null,
      "grid_auto_rows": null,
      "grid_column": null,
      "grid_gap": null,
      "grid_row": null,
      "grid_template_areas": null,
      "grid_template_columns": null,
      "grid_template_rows": null,
      "height": null,
      "justify_content": null,
      "justify_items": null,
      "left": null,
      "margin": null,
      "max_height": null,
      "max_width": null,
      "min_height": null,
      "min_width": null,
      "object_fit": null,
      "object_position": null,
      "order": null,
      "overflow": null,
      "overflow_x": null,
      "overflow_y": null,
      "padding": null,
      "right": null,
      "top": null,
      "visibility": null,
      "width": null
     }
    },
    "6fc6c8b7019240708d94700c864d8993": {
     "model_module": "@jupyter-widgets/controls",
     "model_name": "DescriptionStyleModel",
     "model_module_version": "1.5.0",
     "state": {
      "_model_module": "@jupyter-widgets/controls",
      "_model_module_version": "1.5.0",
      "_model_name": "DescriptionStyleModel",
      "_view_count": null,
      "_view_module": "@jupyter-widgets/base",
      "_view_module_version": "1.2.0",
      "_view_name": "StyleView",
      "description_width": ""
     }
    },
    "1c46807f2aed4d189044470716a62269": {
     "model_module": "@jupyter-widgets/base",
     "model_name": "LayoutModel",
     "model_module_version": "1.2.0",
     "state": {
      "_model_module": "@jupyter-widgets/base",
      "_model_module_version": "1.2.0",
      "_model_name": "LayoutModel",
      "_view_count": null,
      "_view_module": "@jupyter-widgets/base",
      "_view_module_version": "1.2.0",
      "_view_name": "LayoutView",
      "align_content": null,
      "align_items": null,
      "align_self": null,
      "border": null,
      "bottom": null,
      "display": null,
      "flex": null,
      "flex_flow": null,
      "grid_area": null,
      "grid_auto_columns": null,
      "grid_auto_flow": null,
      "grid_auto_rows": null,
      "grid_column": null,
      "grid_gap": null,
      "grid_row": null,
      "grid_template_areas": null,
      "grid_template_columns": null,
      "grid_template_rows": null,
      "height": null,
      "justify_content": null,
      "justify_items": null,
      "left": null,
      "margin": null,
      "max_height": null,
      "max_width": null,
      "min_height": null,
      "min_width": null,
      "object_fit": null,
      "object_position": null,
      "order": null,
      "overflow": null,
      "overflow_x": null,
      "overflow_y": null,
      "padding": null,
      "right": null,
      "top": null,
      "visibility": null,
      "width": null
     }
    },
    "7d997f9cbd0d43f7a164492977640521": {
     "model_module": "@jupyter-widgets/controls",
     "model_name": "ProgressStyleModel",
     "model_module_version": "1.5.0",
     "state": {
      "_model_module": "@jupyter-widgets/controls",
      "_model_module_version": "1.5.0",
      "_model_name": "ProgressStyleModel",
      "_view_count": null,
      "_view_module": "@jupyter-widgets/base",
      "_view_module_version": "1.2.0",
      "_view_name": "StyleView",
      "bar_color": null,
      "description_width": ""
     }
    },
    "57ef498ef73a4288a3739ac0a2578a9b": {
     "model_module": "@jupyter-widgets/base",
     "model_name": "LayoutModel",
     "model_module_version": "1.2.0",
     "state": {
      "_model_module": "@jupyter-widgets/base",
      "_model_module_version": "1.2.0",
      "_model_name": "LayoutModel",
      "_view_count": null,
      "_view_module": "@jupyter-widgets/base",
      "_view_module_version": "1.2.0",
      "_view_name": "LayoutView",
      "align_content": null,
      "align_items": null,
      "align_self": null,
      "border": null,
      "bottom": null,
      "display": null,
      "flex": null,
      "flex_flow": null,
      "grid_area": null,
      "grid_auto_columns": null,
      "grid_auto_flow": null,
      "grid_auto_rows": null,
      "grid_column": null,
      "grid_gap": null,
      "grid_row": null,
      "grid_template_areas": null,
      "grid_template_columns": null,
      "grid_template_rows": null,
      "height": null,
      "justify_content": null,
      "justify_items": null,
      "left": null,
      "margin": null,
      "max_height": null,
      "max_width": null,
      "min_height": null,
      "min_width": null,
      "object_fit": null,
      "object_position": null,
      "order": null,
      "overflow": null,
      "overflow_x": null,
      "overflow_y": null,
      "padding": null,
      "right": null,
      "top": null,
      "visibility": null,
      "width": null
     }
    },
    "59cc3d7826d14456a026375d8feb9209": {
     "model_module": "@jupyter-widgets/controls",
     "model_name": "DescriptionStyleModel",
     "model_module_version": "1.5.0",
     "state": {
      "_model_module": "@jupyter-widgets/controls",
      "_model_module_version": "1.5.0",
      "_model_name": "DescriptionStyleModel",
      "_view_count": null,
      "_view_module": "@jupyter-widgets/base",
      "_view_module_version": "1.2.0",
      "_view_name": "StyleView",
      "description_width": ""
     }
    }
   }
  }
 },
 "nbformat": 4,
 "nbformat_minor": 5
}
